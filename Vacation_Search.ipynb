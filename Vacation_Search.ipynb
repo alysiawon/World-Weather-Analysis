{
 "cells": [
  {
   "cell_type": "markdown",
   "metadata": {},
   "source": [
    "## Deliverable 2. Create a Customer Travel Destinations Map."
   ]
  },
  {
   "cell_type": "code",
   "execution_count": 1,
   "metadata": {},
   "outputs": [],
   "source": [
    "# Dependencies and Setup\n",
    "import pandas as pd\n",
    "import requests\n",
    "import gmaps\n",
    "\n",
    "# Import API key\n",
    "from config import g_key\n",
    "\n",
    "# Configure gmaps API key\n",
    "gmaps.configure(api_key=g_key)"
   ]
  },
  {
   "cell_type": "code",
   "execution_count": 2,
   "metadata": {},
   "outputs": [
    {
     "output_type": "execute_result",
     "data": {
      "text/plain": [
       "   City_ID         City Country      Lat       Lng  Max Temp  Humidity  \\\n",
       "0        0      Rikitea      PF -23.1203 -134.9692     75.11        70   \n",
       "1        1   Butaritari      KI   3.0707  172.7902     82.94        77   \n",
       "2        2       Atuona      PF  -9.8000 -139.0333     79.61        64   \n",
       "3        3  Clyde River      CA  70.4692  -68.5914     30.43        86   \n",
       "4        4     Hermanus      ZA -34.4187   19.2345     54.90        76   \n",
       "\n",
       "   Cloudiness  Wind Speed Current Description  \n",
       "0          97       12.41     overcast clouds  \n",
       "1          94       14.34     overcast clouds  \n",
       "2           6        8.90           clear sky  \n",
       "3          75        3.44       broken clouds  \n",
       "4          98        6.26     overcast clouds  "
      ],
      "text/html": "<div>\n<style scoped>\n    .dataframe tbody tr th:only-of-type {\n        vertical-align: middle;\n    }\n\n    .dataframe tbody tr th {\n        vertical-align: top;\n    }\n\n    .dataframe thead th {\n        text-align: right;\n    }\n</style>\n<table border=\"1\" class=\"dataframe\">\n  <thead>\n    <tr style=\"text-align: right;\">\n      <th></th>\n      <th>City_ID</th>\n      <th>City</th>\n      <th>Country</th>\n      <th>Lat</th>\n      <th>Lng</th>\n      <th>Max Temp</th>\n      <th>Humidity</th>\n      <th>Cloudiness</th>\n      <th>Wind Speed</th>\n      <th>Current Description</th>\n    </tr>\n  </thead>\n  <tbody>\n    <tr>\n      <th>0</th>\n      <td>0</td>\n      <td>Rikitea</td>\n      <td>PF</td>\n      <td>-23.1203</td>\n      <td>-134.9692</td>\n      <td>75.11</td>\n      <td>70</td>\n      <td>97</td>\n      <td>12.41</td>\n      <td>overcast clouds</td>\n    </tr>\n    <tr>\n      <th>1</th>\n      <td>1</td>\n      <td>Butaritari</td>\n      <td>KI</td>\n      <td>3.0707</td>\n      <td>172.7902</td>\n      <td>82.94</td>\n      <td>77</td>\n      <td>94</td>\n      <td>14.34</td>\n      <td>overcast clouds</td>\n    </tr>\n    <tr>\n      <th>2</th>\n      <td>2</td>\n      <td>Atuona</td>\n      <td>PF</td>\n      <td>-9.8000</td>\n      <td>-139.0333</td>\n      <td>79.61</td>\n      <td>64</td>\n      <td>6</td>\n      <td>8.90</td>\n      <td>clear sky</td>\n    </tr>\n    <tr>\n      <th>3</th>\n      <td>3</td>\n      <td>Clyde River</td>\n      <td>CA</td>\n      <td>70.4692</td>\n      <td>-68.5914</td>\n      <td>30.43</td>\n      <td>86</td>\n      <td>75</td>\n      <td>3.44</td>\n      <td>broken clouds</td>\n    </tr>\n    <tr>\n      <th>4</th>\n      <td>4</td>\n      <td>Hermanus</td>\n      <td>ZA</td>\n      <td>-34.4187</td>\n      <td>19.2345</td>\n      <td>54.90</td>\n      <td>76</td>\n      <td>98</td>\n      <td>6.26</td>\n      <td>overcast clouds</td>\n    </tr>\n  </tbody>\n</table>\n</div>"
     },
     "metadata": {},
     "execution_count": 2
    }
   ],
   "source": [
    "# 1. Import the WeatherPy_database.csv file. \n",
    "city_data_df = pd.read_csv(\"Weather_Database/WeatherPy_database.csv\")\n",
    "city_data_df.head()"
   ]
  },
  {
   "cell_type": "code",
   "execution_count": 3,
   "metadata": {},
   "outputs": [],
   "source": [
    "# 2. Prompt the user to enter minimum and maximum temperature criteria \n",
    "min_temp = float(input(\"What is the minimum temperature you would like for your trip? \"))\n",
    "max_temp = float(input(\"What is the maximum temperature you would like for your trip? \"))"
   ]
  },
  {
   "cell_type": "code",
   "execution_count": 4,
   "metadata": {},
   "outputs": [
    {
     "output_type": "execute_result",
     "data": {
      "text/plain": [
       "    City_ID             City Country      Lat       Lng  Max Temp  Humidity  \\\n",
       "0         0          Rikitea      PF -23.1203 -134.9692     75.11        70   \n",
       "1         1       Butaritari      KI   3.0707  172.7902     82.94        77   \n",
       "2         2           Atuona      PF  -9.8000 -139.0333     79.61        64   \n",
       "5         5     Puerto Ayora      EC  -0.7393  -90.3518     76.55        84   \n",
       "9         9  Arraial Do Cabo      BR -22.9661  -42.0278     75.16        83   \n",
       "15       15             Daru      PG  -9.0763  143.2092     79.45        76   \n",
       "20       20           Marzuq      YE  14.4000   46.4667     78.62        43   \n",
       "21       21        Hithadhoo      MV  -0.6000   73.0833     83.34        73   \n",
       "24       24       Baker City      US  44.7749 -117.8344     79.93        17   \n",
       "26       26        Tecoanapa      MX  16.5167  -98.7500     88.59        61   \n",
       "\n",
       "    Cloudiness  Wind Speed Current Description  \n",
       "0           97       12.41     overcast clouds  \n",
       "1           94       14.34     overcast clouds  \n",
       "2            6        8.90           clear sky  \n",
       "5           18       10.00          few clouds  \n",
       "9           75        4.61       broken clouds  \n",
       "15          79       14.20       broken clouds  \n",
       "20           0        3.94           clear sky  \n",
       "21          14       18.72          few clouds  \n",
       "24           1        8.05           clear sky  \n",
       "26          64       11.86       broken clouds  "
      ],
      "text/html": "<div>\n<style scoped>\n    .dataframe tbody tr th:only-of-type {\n        vertical-align: middle;\n    }\n\n    .dataframe tbody tr th {\n        vertical-align: top;\n    }\n\n    .dataframe thead th {\n        text-align: right;\n    }\n</style>\n<table border=\"1\" class=\"dataframe\">\n  <thead>\n    <tr style=\"text-align: right;\">\n      <th></th>\n      <th>City_ID</th>\n      <th>City</th>\n      <th>Country</th>\n      <th>Lat</th>\n      <th>Lng</th>\n      <th>Max Temp</th>\n      <th>Humidity</th>\n      <th>Cloudiness</th>\n      <th>Wind Speed</th>\n      <th>Current Description</th>\n    </tr>\n  </thead>\n  <tbody>\n    <tr>\n      <th>0</th>\n      <td>0</td>\n      <td>Rikitea</td>\n      <td>PF</td>\n      <td>-23.1203</td>\n      <td>-134.9692</td>\n      <td>75.11</td>\n      <td>70</td>\n      <td>97</td>\n      <td>12.41</td>\n      <td>overcast clouds</td>\n    </tr>\n    <tr>\n      <th>1</th>\n      <td>1</td>\n      <td>Butaritari</td>\n      <td>KI</td>\n      <td>3.0707</td>\n      <td>172.7902</td>\n      <td>82.94</td>\n      <td>77</td>\n      <td>94</td>\n      <td>14.34</td>\n      <td>overcast clouds</td>\n    </tr>\n    <tr>\n      <th>2</th>\n      <td>2</td>\n      <td>Atuona</td>\n      <td>PF</td>\n      <td>-9.8000</td>\n      <td>-139.0333</td>\n      <td>79.61</td>\n      <td>64</td>\n      <td>6</td>\n      <td>8.90</td>\n      <td>clear sky</td>\n    </tr>\n    <tr>\n      <th>5</th>\n      <td>5</td>\n      <td>Puerto Ayora</td>\n      <td>EC</td>\n      <td>-0.7393</td>\n      <td>-90.3518</td>\n      <td>76.55</td>\n      <td>84</td>\n      <td>18</td>\n      <td>10.00</td>\n      <td>few clouds</td>\n    </tr>\n    <tr>\n      <th>9</th>\n      <td>9</td>\n      <td>Arraial Do Cabo</td>\n      <td>BR</td>\n      <td>-22.9661</td>\n      <td>-42.0278</td>\n      <td>75.16</td>\n      <td>83</td>\n      <td>75</td>\n      <td>4.61</td>\n      <td>broken clouds</td>\n    </tr>\n    <tr>\n      <th>15</th>\n      <td>15</td>\n      <td>Daru</td>\n      <td>PG</td>\n      <td>-9.0763</td>\n      <td>143.2092</td>\n      <td>79.45</td>\n      <td>76</td>\n      <td>79</td>\n      <td>14.20</td>\n      <td>broken clouds</td>\n    </tr>\n    <tr>\n      <th>20</th>\n      <td>20</td>\n      <td>Marzuq</td>\n      <td>YE</td>\n      <td>14.4000</td>\n      <td>46.4667</td>\n      <td>78.62</td>\n      <td>43</td>\n      <td>0</td>\n      <td>3.94</td>\n      <td>clear sky</td>\n    </tr>\n    <tr>\n      <th>21</th>\n      <td>21</td>\n      <td>Hithadhoo</td>\n      <td>MV</td>\n      <td>-0.6000</td>\n      <td>73.0833</td>\n      <td>83.34</td>\n      <td>73</td>\n      <td>14</td>\n      <td>18.72</td>\n      <td>few clouds</td>\n    </tr>\n    <tr>\n      <th>24</th>\n      <td>24</td>\n      <td>Baker City</td>\n      <td>US</td>\n      <td>44.7749</td>\n      <td>-117.8344</td>\n      <td>79.93</td>\n      <td>17</td>\n      <td>1</td>\n      <td>8.05</td>\n      <td>clear sky</td>\n    </tr>\n    <tr>\n      <th>26</th>\n      <td>26</td>\n      <td>Tecoanapa</td>\n      <td>MX</td>\n      <td>16.5167</td>\n      <td>-98.7500</td>\n      <td>88.59</td>\n      <td>61</td>\n      <td>64</td>\n      <td>11.86</td>\n      <td>broken clouds</td>\n    </tr>\n  </tbody>\n</table>\n</div>"
     },
     "metadata": {},
     "execution_count": 4
    }
   ],
   "source": [
    "# 3. Filter the city_data_df DataFrame using the input statements to create a new DataFrame using the loc method.\n",
    "city_data_temp_df = city_data_df.loc[(city_data_df[\"Max Temp\"] <= max_temp) & (city_data_df[\"Max Temp\"] >= min_temp)]\n",
    "city_data_temp_df.head(10)"
   ]
  },
  {
   "cell_type": "code",
   "execution_count": 5,
   "metadata": {},
   "outputs": [
    {
     "output_type": "execute_result",
     "data": {
      "text/plain": [
       "City_ID                696\n",
       "City                   696\n",
       "Country                692\n",
       "Lat                    696\n",
       "Lng                    696\n",
       "Max Temp               696\n",
       "Humidity               696\n",
       "Cloudiness             696\n",
       "Wind Speed             696\n",
       "Current Description    696\n",
       "dtype: int64"
      ]
     },
     "metadata": {},
     "execution_count": 5
    }
   ],
   "source": [
    "# 4a. Determine if there are any empty rows.\n",
    "\n",
    "# Check Original Dataset\n",
    "city_data_df.count()"
   ]
  },
  {
   "cell_type": "code",
   "execution_count": 6,
   "metadata": {},
   "outputs": [
    {
     "output_type": "execute_result",
     "data": {
      "text/plain": [
       "City_ID                0\n",
       "City                   0\n",
       "Country                4\n",
       "Lat                    0\n",
       "Lng                    0\n",
       "Max Temp               0\n",
       "Humidity               0\n",
       "Cloudiness             0\n",
       "Wind Speed             0\n",
       "Current Description    0\n",
       "dtype: int64"
      ]
     },
     "metadata": {},
     "execution_count": 6
    }
   ],
   "source": [
    "# Check Missing Data in Original Dataset\n",
    "city_data_df.isnull().sum(axis = 0)"
   ]
  },
  {
   "cell_type": "code",
   "execution_count": 7,
   "metadata": {},
   "outputs": [
    {
     "output_type": "execute_result",
     "data": {
      "text/plain": [
       "City_ID                202\n",
       "City                   202\n",
       "Country                202\n",
       "Lat                    202\n",
       "Lng                    202\n",
       "Max Temp               202\n",
       "Humidity               202\n",
       "Cloudiness             202\n",
       "Wind Speed             202\n",
       "Current Description    202\n",
       "dtype: int64"
      ]
     },
     "metadata": {},
     "execution_count": 7
    }
   ],
   "source": [
    "# Check New Dataset\n",
    "city_data_temp_df.count()"
   ]
  },
  {
   "cell_type": "code",
   "execution_count": 8,
   "metadata": {},
   "outputs": [
    {
     "output_type": "execute_result",
     "data": {
      "text/plain": [
       "City_ID                0\n",
       "City                   0\n",
       "Country                0\n",
       "Lat                    0\n",
       "Lng                    0\n",
       "Max Temp               0\n",
       "Humidity               0\n",
       "Cloudiness             0\n",
       "Wind Speed             0\n",
       "Current Description    0\n",
       "dtype: int64"
      ]
     },
     "metadata": {},
     "execution_count": 8
    }
   ],
   "source": [
    "# Check Missing Data in New Dataset\n",
    "city_data_temp_df.isnull().sum(axis = 0)"
   ]
  },
  {
   "cell_type": "code",
   "execution_count": 9,
   "metadata": {},
   "outputs": [
    {
     "output_type": "execute_result",
     "data": {
      "text/plain": [
       "     City_ID             City Country      Lat       Lng  Max Temp  Humidity  \\\n",
       "0          0          Rikitea      PF -23.1203 -134.9692     75.11        70   \n",
       "1          1       Butaritari      KI   3.0707  172.7902     82.94        77   \n",
       "2          2           Atuona      PF  -9.8000 -139.0333     79.61        64   \n",
       "5          5     Puerto Ayora      EC  -0.7393  -90.3518     76.55        84   \n",
       "9          9  Arraial Do Cabo      BR -22.9661  -42.0278     75.16        83   \n",
       "..       ...              ...     ...      ...       ...       ...       ...   \n",
       "676      676        Cartagena      CO  10.3997  -75.5144     87.42        66   \n",
       "677      677            Yendi      GH   9.4427   -0.0099     77.07        82   \n",
       "685      685          Itarema      BR  -2.9248  -39.9167     79.12        75   \n",
       "686      686         Denpasar      ID  -8.6500  115.2167     78.46        94   \n",
       "694      694        Bembereke      BJ  10.2283    2.6634     78.62        65   \n",
       "\n",
       "     Cloudiness  Wind Speed Current Description  \n",
       "0            97       12.41     overcast clouds  \n",
       "1            94       14.34     overcast clouds  \n",
       "2             6        8.90           clear sky  \n",
       "5            18       10.00          few clouds  \n",
       "9            75        4.61       broken clouds  \n",
       "..          ...         ...                 ...  \n",
       "676          40        6.91    scattered clouds  \n",
       "677          82        2.84          light rain  \n",
       "685           1       12.93           clear sky  \n",
       "686          20        3.15          few clouds  \n",
       "694          89        5.97     overcast clouds  \n",
       "\n",
       "[202 rows x 10 columns]"
      ],
      "text/html": "<div>\n<style scoped>\n    .dataframe tbody tr th:only-of-type {\n        vertical-align: middle;\n    }\n\n    .dataframe tbody tr th {\n        vertical-align: top;\n    }\n\n    .dataframe thead th {\n        text-align: right;\n    }\n</style>\n<table border=\"1\" class=\"dataframe\">\n  <thead>\n    <tr style=\"text-align: right;\">\n      <th></th>\n      <th>City_ID</th>\n      <th>City</th>\n      <th>Country</th>\n      <th>Lat</th>\n      <th>Lng</th>\n      <th>Max Temp</th>\n      <th>Humidity</th>\n      <th>Cloudiness</th>\n      <th>Wind Speed</th>\n      <th>Current Description</th>\n    </tr>\n  </thead>\n  <tbody>\n    <tr>\n      <th>0</th>\n      <td>0</td>\n      <td>Rikitea</td>\n      <td>PF</td>\n      <td>-23.1203</td>\n      <td>-134.9692</td>\n      <td>75.11</td>\n      <td>70</td>\n      <td>97</td>\n      <td>12.41</td>\n      <td>overcast clouds</td>\n    </tr>\n    <tr>\n      <th>1</th>\n      <td>1</td>\n      <td>Butaritari</td>\n      <td>KI</td>\n      <td>3.0707</td>\n      <td>172.7902</td>\n      <td>82.94</td>\n      <td>77</td>\n      <td>94</td>\n      <td>14.34</td>\n      <td>overcast clouds</td>\n    </tr>\n    <tr>\n      <th>2</th>\n      <td>2</td>\n      <td>Atuona</td>\n      <td>PF</td>\n      <td>-9.8000</td>\n      <td>-139.0333</td>\n      <td>79.61</td>\n      <td>64</td>\n      <td>6</td>\n      <td>8.90</td>\n      <td>clear sky</td>\n    </tr>\n    <tr>\n      <th>5</th>\n      <td>5</td>\n      <td>Puerto Ayora</td>\n      <td>EC</td>\n      <td>-0.7393</td>\n      <td>-90.3518</td>\n      <td>76.55</td>\n      <td>84</td>\n      <td>18</td>\n      <td>10.00</td>\n      <td>few clouds</td>\n    </tr>\n    <tr>\n      <th>9</th>\n      <td>9</td>\n      <td>Arraial Do Cabo</td>\n      <td>BR</td>\n      <td>-22.9661</td>\n      <td>-42.0278</td>\n      <td>75.16</td>\n      <td>83</td>\n      <td>75</td>\n      <td>4.61</td>\n      <td>broken clouds</td>\n    </tr>\n    <tr>\n      <th>...</th>\n      <td>...</td>\n      <td>...</td>\n      <td>...</td>\n      <td>...</td>\n      <td>...</td>\n      <td>...</td>\n      <td>...</td>\n      <td>...</td>\n      <td>...</td>\n      <td>...</td>\n    </tr>\n    <tr>\n      <th>676</th>\n      <td>676</td>\n      <td>Cartagena</td>\n      <td>CO</td>\n      <td>10.3997</td>\n      <td>-75.5144</td>\n      <td>87.42</td>\n      <td>66</td>\n      <td>40</td>\n      <td>6.91</td>\n      <td>scattered clouds</td>\n    </tr>\n    <tr>\n      <th>677</th>\n      <td>677</td>\n      <td>Yendi</td>\n      <td>GH</td>\n      <td>9.4427</td>\n      <td>-0.0099</td>\n      <td>77.07</td>\n      <td>82</td>\n      <td>82</td>\n      <td>2.84</td>\n      <td>light rain</td>\n    </tr>\n    <tr>\n      <th>685</th>\n      <td>685</td>\n      <td>Itarema</td>\n      <td>BR</td>\n      <td>-2.9248</td>\n      <td>-39.9167</td>\n      <td>79.12</td>\n      <td>75</td>\n      <td>1</td>\n      <td>12.93</td>\n      <td>clear sky</td>\n    </tr>\n    <tr>\n      <th>686</th>\n      <td>686</td>\n      <td>Denpasar</td>\n      <td>ID</td>\n      <td>-8.6500</td>\n      <td>115.2167</td>\n      <td>78.46</td>\n      <td>94</td>\n      <td>20</td>\n      <td>3.15</td>\n      <td>few clouds</td>\n    </tr>\n    <tr>\n      <th>694</th>\n      <td>694</td>\n      <td>Bembereke</td>\n      <td>BJ</td>\n      <td>10.2283</td>\n      <td>2.6634</td>\n      <td>78.62</td>\n      <td>65</td>\n      <td>89</td>\n      <td>5.97</td>\n      <td>overcast clouds</td>\n    </tr>\n  </tbody>\n</table>\n<p>202 rows × 10 columns</p>\n</div>"
     },
     "metadata": {},
     "execution_count": 9
    }
   ],
   "source": [
    "# 4b. Drop any empty rows and create a new DataFrame that doesn’t have empty rows.\n",
    "clean_city_data_df = city_data_temp_df.dropna()\n",
    "clean_city_data_df"
   ]
  },
  {
   "cell_type": "code",
   "execution_count": 10,
   "metadata": {},
   "outputs": [
    {
     "output_type": "execute_result",
     "data": {
      "text/plain": [
       "               City Country  Max Temp Current Description      Lat       Lng  \\\n",
       "0           Rikitea      PF     75.11     overcast clouds -23.1203 -134.9692   \n",
       "1        Butaritari      KI     82.94     overcast clouds   3.0707  172.7902   \n",
       "2            Atuona      PF     79.61           clear sky  -9.8000 -139.0333   \n",
       "5      Puerto Ayora      EC     76.55          few clouds  -0.7393  -90.3518   \n",
       "9   Arraial Do Cabo      BR     75.16       broken clouds -22.9661  -42.0278   \n",
       "15             Daru      PG     79.45       broken clouds  -9.0763  143.2092   \n",
       "20           Marzuq      YE     78.62           clear sky  14.4000   46.4667   \n",
       "21        Hithadhoo      MV     83.34          few clouds  -0.6000   73.0833   \n",
       "24       Baker City      US     79.93           clear sky  44.7749 -117.8344   \n",
       "26        Tecoanapa      MX     88.59       broken clouds  16.5167  -98.7500   \n",
       "\n",
       "   Hotel Name  \n",
       "0              \n",
       "1              \n",
       "2              \n",
       "5              \n",
       "9              \n",
       "15             \n",
       "20             \n",
       "21             \n",
       "24             \n",
       "26             "
      ],
      "text/html": "<div>\n<style scoped>\n    .dataframe tbody tr th:only-of-type {\n        vertical-align: middle;\n    }\n\n    .dataframe tbody tr th {\n        vertical-align: top;\n    }\n\n    .dataframe thead th {\n        text-align: right;\n    }\n</style>\n<table border=\"1\" class=\"dataframe\">\n  <thead>\n    <tr style=\"text-align: right;\">\n      <th></th>\n      <th>City</th>\n      <th>Country</th>\n      <th>Max Temp</th>\n      <th>Current Description</th>\n      <th>Lat</th>\n      <th>Lng</th>\n      <th>Hotel Name</th>\n    </tr>\n  </thead>\n  <tbody>\n    <tr>\n      <th>0</th>\n      <td>Rikitea</td>\n      <td>PF</td>\n      <td>75.11</td>\n      <td>overcast clouds</td>\n      <td>-23.1203</td>\n      <td>-134.9692</td>\n      <td></td>\n    </tr>\n    <tr>\n      <th>1</th>\n      <td>Butaritari</td>\n      <td>KI</td>\n      <td>82.94</td>\n      <td>overcast clouds</td>\n      <td>3.0707</td>\n      <td>172.7902</td>\n      <td></td>\n    </tr>\n    <tr>\n      <th>2</th>\n      <td>Atuona</td>\n      <td>PF</td>\n      <td>79.61</td>\n      <td>clear sky</td>\n      <td>-9.8000</td>\n      <td>-139.0333</td>\n      <td></td>\n    </tr>\n    <tr>\n      <th>5</th>\n      <td>Puerto Ayora</td>\n      <td>EC</td>\n      <td>76.55</td>\n      <td>few clouds</td>\n      <td>-0.7393</td>\n      <td>-90.3518</td>\n      <td></td>\n    </tr>\n    <tr>\n      <th>9</th>\n      <td>Arraial Do Cabo</td>\n      <td>BR</td>\n      <td>75.16</td>\n      <td>broken clouds</td>\n      <td>-22.9661</td>\n      <td>-42.0278</td>\n      <td></td>\n    </tr>\n    <tr>\n      <th>15</th>\n      <td>Daru</td>\n      <td>PG</td>\n      <td>79.45</td>\n      <td>broken clouds</td>\n      <td>-9.0763</td>\n      <td>143.2092</td>\n      <td></td>\n    </tr>\n    <tr>\n      <th>20</th>\n      <td>Marzuq</td>\n      <td>YE</td>\n      <td>78.62</td>\n      <td>clear sky</td>\n      <td>14.4000</td>\n      <td>46.4667</td>\n      <td></td>\n    </tr>\n    <tr>\n      <th>21</th>\n      <td>Hithadhoo</td>\n      <td>MV</td>\n      <td>83.34</td>\n      <td>few clouds</td>\n      <td>-0.6000</td>\n      <td>73.0833</td>\n      <td></td>\n    </tr>\n    <tr>\n      <th>24</th>\n      <td>Baker City</td>\n      <td>US</td>\n      <td>79.93</td>\n      <td>clear sky</td>\n      <td>44.7749</td>\n      <td>-117.8344</td>\n      <td></td>\n    </tr>\n    <tr>\n      <th>26</th>\n      <td>Tecoanapa</td>\n      <td>MX</td>\n      <td>88.59</td>\n      <td>broken clouds</td>\n      <td>16.5167</td>\n      <td>-98.7500</td>\n      <td></td>\n    </tr>\n  </tbody>\n</table>\n</div>"
     },
     "metadata": {},
     "execution_count": 10
    }
   ],
   "source": [
    "# 5a. Create DataFrame called hotel_df to store hotel names along with city, country, max temp, and coordinates.\n",
    "hotel_df = clean_city_data_df[[\"City\", \"Country\", \"Max Temp\", \"Current Description\", \"Lat\", \"Lng\"]].copy()\n",
    "\n",
    "# 5b. Create a new column \"Hotel Name\"\n",
    "hotel_df[\"Hotel Name\"] = \"\"\n",
    "hotel_df.head(10)"
   ]
  },
  {
   "cell_type": "code",
   "execution_count": 11,
   "metadata": {},
   "outputs": [
    {
     "output_type": "execute_result",
     "data": {
      "text/plain": [
       "City                   202\n",
       "Country                202\n",
       "Max Temp               202\n",
       "Current Description    202\n",
       "Lat                    202\n",
       "Lng                    202\n",
       "Hotel Name             202\n",
       "dtype: int64"
      ]
     },
     "metadata": {},
     "execution_count": 11
    }
   ],
   "source": [
    "hotel_df.count()"
   ]
  },
  {
   "cell_type": "code",
   "execution_count": 12,
   "metadata": {},
   "outputs": [
    {
     "output_type": "stream",
     "name": "stdout",
     "text": [
      "Hotel not found... skipping.\n",
      "Hotel not found... skipping.\n",
      "Hotel not found... skipping.\n",
      "Hotel not found... skipping.\n",
      "Hotel not found... skipping.\n",
      "Hotel not found... skipping.\n",
      "Hotel not found... skipping.\n",
      "Hotel not found... skipping.\n",
      "Hotel not found... skipping.\n",
      "Hotel not found... skipping.\n",
      "Hotel not found... skipping.\n",
      "Hotel not found... skipping.\n",
      "Hotel not found... skipping.\n",
      "Hotel not found... skipping.\n",
      "Hotel not found... skipping.\n"
     ]
    }
   ],
   "source": [
    "# 6a. Set parameters to search for hotels with 5000 meters.\n",
    "params = {\n",
    "    \"radius\": 5000,\n",
    "    \"type\": \"lodging\",\n",
    "    \"key\": g_key\n",
    "}\n",
    "\n",
    "# 6b. Iterate through the hotel DataFrame.\n",
    "for index, row in hotel_df.iterrows():\n",
    "\n",
    "    # 6c. Get latitude and longitude from DataFrame\n",
    "    lat = row[\"Lat\"]\n",
    "    lng = row[\"Lng\"]\n",
    "    \n",
    "    params[\"location\"] = f\"{lat},{lng}\"    \n",
    "    \n",
    "    # 6d. Set up the base URL for the Google Directions API to get JSON data.\n",
    "    base_url = \"https://maps.googleapis.com/maps/api/place/nearbysearch/json\"\n",
    "    \n",
    "    # 6e. Make request and retrieve the JSON data from the search. \n",
    "    hotels = requests.get(base_url, params=params).json()\n",
    "    \n",
    "    # 6f. Get the first hotel from the results and store the name, if a hotel isn't found skip the city.\n",
    "    try:\n",
    "        hotel_df.loc[index, \"Hotel Name\"] = hotels[\"results\"][0][\"name\"]\n",
    "    except (IndexError):\n",
    "        print(\"Hotel not found... skipping.\")"
   ]
  },
  {
   "cell_type": "code",
   "execution_count": 13,
   "metadata": {},
   "outputs": [
    {
     "output_type": "execute_result",
     "data": {
      "text/plain": [
       "               City Country  Max Temp Current Description      Lat       Lng  \\\n",
       "0           Rikitea      PF     75.11     overcast clouds -23.1203 -134.9692   \n",
       "1        Butaritari      KI     82.94     overcast clouds   3.0707  172.7902   \n",
       "2            Atuona      PF     79.61           clear sky  -9.8000 -139.0333   \n",
       "5      Puerto Ayora      EC     76.55          few clouds  -0.7393  -90.3518   \n",
       "9   Arraial Do Cabo      BR     75.16       broken clouds -22.9661  -42.0278   \n",
       "15             Daru      PG     79.45       broken clouds  -9.0763  143.2092   \n",
       "20           Marzuq      YE     78.62           clear sky  14.4000   46.4667   \n",
       "21        Hithadhoo      MV     83.34          few clouds  -0.6000   73.0833   \n",
       "24       Baker City      US     79.93           clear sky  44.7749 -117.8344   \n",
       "26        Tecoanapa      MX     88.59       broken clouds  16.5167  -98.7500   \n",
       "\n",
       "                   Hotel Name  \n",
       "0              Pension Maro'i  \n",
       "1          Isles Sunset Lodge  \n",
       "2                 Villa Enata  \n",
       "5   Finch Bay Galapagos Hotel  \n",
       "9         Pousada Porto Praia  \n",
       "15                 Daru Lodge  \n",
       "20                             \n",
       "21          Scoop Guest House  \n",
       "24          Bridge Street Inn  \n",
       "26            Hotel Manglares  "
      ],
      "text/html": "<div>\n<style scoped>\n    .dataframe tbody tr th:only-of-type {\n        vertical-align: middle;\n    }\n\n    .dataframe tbody tr th {\n        vertical-align: top;\n    }\n\n    .dataframe thead th {\n        text-align: right;\n    }\n</style>\n<table border=\"1\" class=\"dataframe\">\n  <thead>\n    <tr style=\"text-align: right;\">\n      <th></th>\n      <th>City</th>\n      <th>Country</th>\n      <th>Max Temp</th>\n      <th>Current Description</th>\n      <th>Lat</th>\n      <th>Lng</th>\n      <th>Hotel Name</th>\n    </tr>\n  </thead>\n  <tbody>\n    <tr>\n      <th>0</th>\n      <td>Rikitea</td>\n      <td>PF</td>\n      <td>75.11</td>\n      <td>overcast clouds</td>\n      <td>-23.1203</td>\n      <td>-134.9692</td>\n      <td>Pension Maro'i</td>\n    </tr>\n    <tr>\n      <th>1</th>\n      <td>Butaritari</td>\n      <td>KI</td>\n      <td>82.94</td>\n      <td>overcast clouds</td>\n      <td>3.0707</td>\n      <td>172.7902</td>\n      <td>Isles Sunset Lodge</td>\n    </tr>\n    <tr>\n      <th>2</th>\n      <td>Atuona</td>\n      <td>PF</td>\n      <td>79.61</td>\n      <td>clear sky</td>\n      <td>-9.8000</td>\n      <td>-139.0333</td>\n      <td>Villa Enata</td>\n    </tr>\n    <tr>\n      <th>5</th>\n      <td>Puerto Ayora</td>\n      <td>EC</td>\n      <td>76.55</td>\n      <td>few clouds</td>\n      <td>-0.7393</td>\n      <td>-90.3518</td>\n      <td>Finch Bay Galapagos Hotel</td>\n    </tr>\n    <tr>\n      <th>9</th>\n      <td>Arraial Do Cabo</td>\n      <td>BR</td>\n      <td>75.16</td>\n      <td>broken clouds</td>\n      <td>-22.9661</td>\n      <td>-42.0278</td>\n      <td>Pousada Porto Praia</td>\n    </tr>\n    <tr>\n      <th>15</th>\n      <td>Daru</td>\n      <td>PG</td>\n      <td>79.45</td>\n      <td>broken clouds</td>\n      <td>-9.0763</td>\n      <td>143.2092</td>\n      <td>Daru Lodge</td>\n    </tr>\n    <tr>\n      <th>20</th>\n      <td>Marzuq</td>\n      <td>YE</td>\n      <td>78.62</td>\n      <td>clear sky</td>\n      <td>14.4000</td>\n      <td>46.4667</td>\n      <td></td>\n    </tr>\n    <tr>\n      <th>21</th>\n      <td>Hithadhoo</td>\n      <td>MV</td>\n      <td>83.34</td>\n      <td>few clouds</td>\n      <td>-0.6000</td>\n      <td>73.0833</td>\n      <td>Scoop Guest House</td>\n    </tr>\n    <tr>\n      <th>24</th>\n      <td>Baker City</td>\n      <td>US</td>\n      <td>79.93</td>\n      <td>clear sky</td>\n      <td>44.7749</td>\n      <td>-117.8344</td>\n      <td>Bridge Street Inn</td>\n    </tr>\n    <tr>\n      <th>26</th>\n      <td>Tecoanapa</td>\n      <td>MX</td>\n      <td>88.59</td>\n      <td>broken clouds</td>\n      <td>16.5167</td>\n      <td>-98.7500</td>\n      <td>Hotel Manglares</td>\n    </tr>\n  </tbody>\n</table>\n</div>"
     },
     "metadata": {},
     "execution_count": 13
    }
   ],
   "source": [
    "hotel_df.head(10)"
   ]
  },
  {
   "cell_type": "code",
   "execution_count": 14,
   "metadata": {},
   "outputs": [
    {
     "output_type": "execute_result",
     "data": {
      "text/plain": [
       "               City Country  Max Temp Current Description      Lat       Lng  \\\n",
       "0           Rikitea      PF     75.11     overcast clouds -23.1203 -134.9692   \n",
       "1        Butaritari      KI     82.94     overcast clouds   3.0707  172.7902   \n",
       "2            Atuona      PF     79.61           clear sky  -9.8000 -139.0333   \n",
       "5      Puerto Ayora      EC     76.55          few clouds  -0.7393  -90.3518   \n",
       "9   Arraial Do Cabo      BR     75.16       broken clouds -22.9661  -42.0278   \n",
       "15             Daru      PG     79.45       broken clouds  -9.0763  143.2092   \n",
       "21        Hithadhoo      MV     83.34          few clouds  -0.6000   73.0833   \n",
       "24       Baker City      US     79.93           clear sky  44.7749 -117.8344   \n",
       "26        Tecoanapa      MX     88.59       broken clouds  16.5167  -98.7500   \n",
       "27          Kahului      US     84.97          few clouds  20.8947 -156.4700   \n",
       "\n",
       "                   Hotel Name  \n",
       "0              Pension Maro'i  \n",
       "1          Isles Sunset Lodge  \n",
       "2                 Villa Enata  \n",
       "5   Finch Bay Galapagos Hotel  \n",
       "9         Pousada Porto Praia  \n",
       "15                 Daru Lodge  \n",
       "21          Scoop Guest House  \n",
       "24          Bridge Street Inn  \n",
       "26            Hotel Manglares  \n",
       "27         Maui Seaside Hotel  "
      ],
      "text/html": "<div>\n<style scoped>\n    .dataframe tbody tr th:only-of-type {\n        vertical-align: middle;\n    }\n\n    .dataframe tbody tr th {\n        vertical-align: top;\n    }\n\n    .dataframe thead th {\n        text-align: right;\n    }\n</style>\n<table border=\"1\" class=\"dataframe\">\n  <thead>\n    <tr style=\"text-align: right;\">\n      <th></th>\n      <th>City</th>\n      <th>Country</th>\n      <th>Max Temp</th>\n      <th>Current Description</th>\n      <th>Lat</th>\n      <th>Lng</th>\n      <th>Hotel Name</th>\n    </tr>\n  </thead>\n  <tbody>\n    <tr>\n      <th>0</th>\n      <td>Rikitea</td>\n      <td>PF</td>\n      <td>75.11</td>\n      <td>overcast clouds</td>\n      <td>-23.1203</td>\n      <td>-134.9692</td>\n      <td>Pension Maro'i</td>\n    </tr>\n    <tr>\n      <th>1</th>\n      <td>Butaritari</td>\n      <td>KI</td>\n      <td>82.94</td>\n      <td>overcast clouds</td>\n      <td>3.0707</td>\n      <td>172.7902</td>\n      <td>Isles Sunset Lodge</td>\n    </tr>\n    <tr>\n      <th>2</th>\n      <td>Atuona</td>\n      <td>PF</td>\n      <td>79.61</td>\n      <td>clear sky</td>\n      <td>-9.8000</td>\n      <td>-139.0333</td>\n      <td>Villa Enata</td>\n    </tr>\n    <tr>\n      <th>5</th>\n      <td>Puerto Ayora</td>\n      <td>EC</td>\n      <td>76.55</td>\n      <td>few clouds</td>\n      <td>-0.7393</td>\n      <td>-90.3518</td>\n      <td>Finch Bay Galapagos Hotel</td>\n    </tr>\n    <tr>\n      <th>9</th>\n      <td>Arraial Do Cabo</td>\n      <td>BR</td>\n      <td>75.16</td>\n      <td>broken clouds</td>\n      <td>-22.9661</td>\n      <td>-42.0278</td>\n      <td>Pousada Porto Praia</td>\n    </tr>\n    <tr>\n      <th>15</th>\n      <td>Daru</td>\n      <td>PG</td>\n      <td>79.45</td>\n      <td>broken clouds</td>\n      <td>-9.0763</td>\n      <td>143.2092</td>\n      <td>Daru Lodge</td>\n    </tr>\n    <tr>\n      <th>21</th>\n      <td>Hithadhoo</td>\n      <td>MV</td>\n      <td>83.34</td>\n      <td>few clouds</td>\n      <td>-0.6000</td>\n      <td>73.0833</td>\n      <td>Scoop Guest House</td>\n    </tr>\n    <tr>\n      <th>24</th>\n      <td>Baker City</td>\n      <td>US</td>\n      <td>79.93</td>\n      <td>clear sky</td>\n      <td>44.7749</td>\n      <td>-117.8344</td>\n      <td>Bridge Street Inn</td>\n    </tr>\n    <tr>\n      <th>26</th>\n      <td>Tecoanapa</td>\n      <td>MX</td>\n      <td>88.59</td>\n      <td>broken clouds</td>\n      <td>16.5167</td>\n      <td>-98.7500</td>\n      <td>Hotel Manglares</td>\n    </tr>\n    <tr>\n      <th>27</th>\n      <td>Kahului</td>\n      <td>US</td>\n      <td>84.97</td>\n      <td>few clouds</td>\n      <td>20.8947</td>\n      <td>-156.4700</td>\n      <td>Maui Seaside Hotel</td>\n    </tr>\n  </tbody>\n</table>\n</div>"
     },
     "metadata": {},
     "execution_count": 14
    }
   ],
   "source": [
    "# 7. Drop the rows where there is no Hotel Name.\n",
    "clean_hotel_df = hotel_df.dropna()[hotel_df[\"Hotel Name\"] != '']\n",
    "clean_hotel_df.head(10)"
   ]
  },
  {
   "cell_type": "code",
   "execution_count": 15,
   "metadata": {},
   "outputs": [],
   "source": [
    "clean_hotel_df = hotel_df[[\"City\", \"Country\", \"Max Temp\", \"Current Description\", \"Lat\", \"Lng\", \"Hotel Name\"]].copy()"
   ]
  },
  {
   "cell_type": "code",
   "execution_count": 16,
   "metadata": {},
   "outputs": [],
   "source": [
    "# 8a. Create the output File (CSV)\n",
    "output_data_file = \"Vacation_Search/WeatherPy_vacation.csv\"\n",
    "\n",
    "# 8b. Export the City_Data into a csv\n",
    "clean_hotel_df.to_csv(output_data_file, index_label=\"City_ID\")"
   ]
  },
  {
   "cell_type": "code",
   "execution_count": 19,
   "metadata": {},
   "outputs": [],
   "source": [
    "# 9. Using the template add city name, the country code, the weather description and maximum temperature for the city.\n",
    "info_box_template = \"\"\"\n",
    "<dl>\n",
    "<dt>City Name</dt><dd>{City}</dd>\n",
    "<dt>Country Code</dt><dd>{Country}</dd>\n",
    "<dt>Weather Description</dt><dd>{Current Description}</dd>\n",
    "<dt>Maximum Temperture</dt><dd>{Max Temp}</dd>\n",
    "</dl>\n",
    "\"\"\"\n",
    "\n",
    "# 10a. Get the data from each row and add it to the formatting template and store the data in a list.\n",
    "hotel_info = [info_box_template.format(**row) for index, row in clean_hotel_df.iterrows()]\n",
    "\n",
    "# 10b. Get the latitude and longitude from each row and store in a new DataFrame.\n",
    "locations = clean_hotel_df[[\"Lat\", \"Lng\"]]\n",
    "max_temp = hotel_df[\"Max Temp\"]\n"
   ]
  },
  {
   "cell_type": "code",
   "execution_count": 21,
   "metadata": {},
   "outputs": [
    {
     "output_type": "display_data",
     "data": {
      "text/plain": "Figure(layout=FigureLayout(height='420px'))",
      "application/vnd.jupyter.widget-view+json": {
       "version_major": 2,
       "version_minor": 0,
       "model_id": "22757e9d454243e7ae7e5fc4667029e1"
      }
     },
     "metadata": {}
    }
   ],
   "source": [
    "# 11a. Add a marker layer for each city to the map. \n",
    "fig = gmaps.figure(center=(30.0, 31.0), zoom_level=1.5)\n",
    "marker_layer = gmaps.marker_layer(locations, info_box_content=hotel_info)\n",
    "fig.add_layer(marker_layer)\n",
    "\n",
    "# 11b. Display the figure\n",
    "fig"
   ]
  }
 ],
 "metadata": {
  "kernelspec": {
   "name": "pythondata",
   "display_name": "Python 3.8.10 64-bit ('base': conda)"
  },
  "language_info": {
   "codemirror_mode": {
    "name": "ipython",
    "version": 3
   },
   "file_extension": ".py",
   "mimetype": "text/x-python",
   "name": "python",
   "nbconvert_exporter": "python",
   "pygments_lexer": "ipython3",
   "version": "3.8.10"
  },
  "latex_envs": {
   "LaTeX_envs_menu_present": true,
   "autoclose": false,
   "autocomplete": true,
   "bibliofile": "biblio.bib",
   "cite_by": "apalike",
   "current_citInitial": 1,
   "eqLabelWithNumbers": true,
   "eqNumInitial": 1,
   "hotkeys": {
    "equation": "Ctrl-E",
    "itemize": "Ctrl-I"
   },
   "labels_anchors": false,
   "latex_user_defs": false,
   "report_style_numbering": false,
   "user_envs_cfg": false
  }
 },
 "nbformat": 4,
 "nbformat_minor": 4
}