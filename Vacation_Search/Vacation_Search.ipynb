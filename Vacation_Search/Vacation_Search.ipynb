{
 "cells": [
  {
   "cell_type": "markdown",
   "metadata": {},
   "source": [
    "## Deliverable 2. Create a Customer Travel Destinations Map."
   ]
  },
  {
   "cell_type": "code",
   "execution_count": 5,
   "metadata": {},
   "outputs": [],
   "source": [
    "# Dependencies and Setup\n",
    "import pandas as pd\n",
    "import requests\n",
    "import gmaps\n",
    "import os\n",
    "\n",
    "# Import API key\n",
    "from config import g_key\n",
    "\n",
    "# Configure gmaps API key\n",
    "gmaps.configure(api_key=g_key)"
   ]
  },
  {
   "cell_type": "code",
   "execution_count": 11,
   "metadata": {},
   "outputs": [
    {
     "output_type": "execute_result",
     "data": {
      "text/plain": [
       "   City_ID             City Country      Lat       Lng  Max Temp  Humidity  \\\n",
       "0        0  Bambous Virieux      MU -20.3428   57.7575     70.21        75   \n",
       "1        1        Busselton      AU -33.6500  115.3333     51.08        89   \n",
       "2        2  Arraial Do Cabo      BR -22.9661  -42.0278     71.31        94   \n",
       "3        3          Rikitea      PF -23.1203 -134.9692     73.99        66   \n",
       "4        4          Mataura      NZ -46.1927  168.8643     49.48        88   \n",
       "\n",
       "   Cloudiness  Wind Speed Current Description  \n",
       "0           6        7.36           clear sky  \n",
       "1          43        7.49    scattered clouds  \n",
       "2         100        8.66          light rain  \n",
       "3          29       18.01    scattered clouds  \n",
       "4          55        2.73       broken clouds  "
      ],
      "text/html": "<div>\n<style scoped>\n    .dataframe tbody tr th:only-of-type {\n        vertical-align: middle;\n    }\n\n    .dataframe tbody tr th {\n        vertical-align: top;\n    }\n\n    .dataframe thead th {\n        text-align: right;\n    }\n</style>\n<table border=\"1\" class=\"dataframe\">\n  <thead>\n    <tr style=\"text-align: right;\">\n      <th></th>\n      <th>City_ID</th>\n      <th>City</th>\n      <th>Country</th>\n      <th>Lat</th>\n      <th>Lng</th>\n      <th>Max Temp</th>\n      <th>Humidity</th>\n      <th>Cloudiness</th>\n      <th>Wind Speed</th>\n      <th>Current Description</th>\n    </tr>\n  </thead>\n  <tbody>\n    <tr>\n      <th>0</th>\n      <td>0</td>\n      <td>Bambous Virieux</td>\n      <td>MU</td>\n      <td>-20.3428</td>\n      <td>57.7575</td>\n      <td>70.21</td>\n      <td>75</td>\n      <td>6</td>\n      <td>7.36</td>\n      <td>clear sky</td>\n    </tr>\n    <tr>\n      <th>1</th>\n      <td>1</td>\n      <td>Busselton</td>\n      <td>AU</td>\n      <td>-33.6500</td>\n      <td>115.3333</td>\n      <td>51.08</td>\n      <td>89</td>\n      <td>43</td>\n      <td>7.49</td>\n      <td>scattered clouds</td>\n    </tr>\n    <tr>\n      <th>2</th>\n      <td>2</td>\n      <td>Arraial Do Cabo</td>\n      <td>BR</td>\n      <td>-22.9661</td>\n      <td>-42.0278</td>\n      <td>71.31</td>\n      <td>94</td>\n      <td>100</td>\n      <td>8.66</td>\n      <td>light rain</td>\n    </tr>\n    <tr>\n      <th>3</th>\n      <td>3</td>\n      <td>Rikitea</td>\n      <td>PF</td>\n      <td>-23.1203</td>\n      <td>-134.9692</td>\n      <td>73.99</td>\n      <td>66</td>\n      <td>29</td>\n      <td>18.01</td>\n      <td>scattered clouds</td>\n    </tr>\n    <tr>\n      <th>4</th>\n      <td>4</td>\n      <td>Mataura</td>\n      <td>NZ</td>\n      <td>-46.1927</td>\n      <td>168.8643</td>\n      <td>49.48</td>\n      <td>88</td>\n      <td>55</td>\n      <td>2.73</td>\n      <td>broken clouds</td>\n    </tr>\n  </tbody>\n</table>\n</div>"
     },
     "metadata": {},
     "execution_count": 11
    }
   ],
   "source": [
    "# 1. Import the WeatherPy_database.csv file. \n",
    "city_data_df = pd.read_csv(\"../Weather_Database/WeatherPy_database.csv\")\n",
    "# city_data_df = os.path.join(\"world_weather_analysis\", \"Weather_Database\",\"WeatherPy_database.csv\")\n",
    "city_data_df.head()"
   ]
  },
  {
   "cell_type": "code",
   "execution_count": 12,
   "metadata": {},
   "outputs": [],
   "source": [
    "# 2. Prompt the user to enter minimum and maximum temperature criteria \n",
    "min_temp = float(input(\"What is the minimum temperature you would like for your trip? \"))\n",
    "max_temp = float(input(\"What is the maximum temperature you would like for your trip? \"))"
   ]
  },
  {
   "cell_type": "code",
   "execution_count": 13,
   "metadata": {},
   "outputs": [
    {
     "output_type": "execute_result",
     "data": {
      "text/plain": [
       "    City_ID              City Country      Lat       Lng  Max Temp  Humidity  \\\n",
       "8         8           Cayenne      GF   4.9333  -52.3333     77.09        89   \n",
       "17       17      San Patricio      US  28.0170  -97.5169     85.17        63   \n",
       "20       20             Lucea      JM  18.4510  -78.1736     85.86        77   \n",
       "25       25             Kapaa      US  22.0752 -159.3190     81.19        71   \n",
       "28       28            Curaca      BR  -8.9903  -39.9094     79.65        61   \n",
       "39       39         Siquirres      CR  10.0975  -83.5066     85.41        85   \n",
       "44       44          Buraydah      SA  26.3260   43.9750     87.89        14   \n",
       "50       50  Puerto Escondido      MX  15.8500  -97.0667     86.09        70   \n",
       "51       51          Bengkulu      ID  -3.8004  102.2655     75.24        92   \n",
       "54       54        High Level      CA  58.5169 -117.1360     76.57        26   \n",
       "\n",
       "    Cloudiness  Wind Speed Current Description  \n",
       "8            0       11.52           clear sky  \n",
       "17          90       13.47     overcast clouds  \n",
       "20         100       11.07     overcast clouds  \n",
       "25          44        1.99    scattered clouds  \n",
       "28          98        9.10     overcast clouds  \n",
       "39          75        3.22       broken clouds  \n",
       "44           3        8.66           clear sky  \n",
       "50          63        7.29       broken clouds  \n",
       "51         100        3.78     overcast clouds  \n",
       "54          82        6.13       broken clouds  "
      ],
      "text/html": "<div>\n<style scoped>\n    .dataframe tbody tr th:only-of-type {\n        vertical-align: middle;\n    }\n\n    .dataframe tbody tr th {\n        vertical-align: top;\n    }\n\n    .dataframe thead th {\n        text-align: right;\n    }\n</style>\n<table border=\"1\" class=\"dataframe\">\n  <thead>\n    <tr style=\"text-align: right;\">\n      <th></th>\n      <th>City_ID</th>\n      <th>City</th>\n      <th>Country</th>\n      <th>Lat</th>\n      <th>Lng</th>\n      <th>Max Temp</th>\n      <th>Humidity</th>\n      <th>Cloudiness</th>\n      <th>Wind Speed</th>\n      <th>Current Description</th>\n    </tr>\n  </thead>\n  <tbody>\n    <tr>\n      <th>8</th>\n      <td>8</td>\n      <td>Cayenne</td>\n      <td>GF</td>\n      <td>4.9333</td>\n      <td>-52.3333</td>\n      <td>77.09</td>\n      <td>89</td>\n      <td>0</td>\n      <td>11.52</td>\n      <td>clear sky</td>\n    </tr>\n    <tr>\n      <th>17</th>\n      <td>17</td>\n      <td>San Patricio</td>\n      <td>US</td>\n      <td>28.0170</td>\n      <td>-97.5169</td>\n      <td>85.17</td>\n      <td>63</td>\n      <td>90</td>\n      <td>13.47</td>\n      <td>overcast clouds</td>\n    </tr>\n    <tr>\n      <th>20</th>\n      <td>20</td>\n      <td>Lucea</td>\n      <td>JM</td>\n      <td>18.4510</td>\n      <td>-78.1736</td>\n      <td>85.86</td>\n      <td>77</td>\n      <td>100</td>\n      <td>11.07</td>\n      <td>overcast clouds</td>\n    </tr>\n    <tr>\n      <th>25</th>\n      <td>25</td>\n      <td>Kapaa</td>\n      <td>US</td>\n      <td>22.0752</td>\n      <td>-159.3190</td>\n      <td>81.19</td>\n      <td>71</td>\n      <td>44</td>\n      <td>1.99</td>\n      <td>scattered clouds</td>\n    </tr>\n    <tr>\n      <th>28</th>\n      <td>28</td>\n      <td>Curaca</td>\n      <td>BR</td>\n      <td>-8.9903</td>\n      <td>-39.9094</td>\n      <td>79.65</td>\n      <td>61</td>\n      <td>98</td>\n      <td>9.10</td>\n      <td>overcast clouds</td>\n    </tr>\n    <tr>\n      <th>39</th>\n      <td>39</td>\n      <td>Siquirres</td>\n      <td>CR</td>\n      <td>10.0975</td>\n      <td>-83.5066</td>\n      <td>85.41</td>\n      <td>85</td>\n      <td>75</td>\n      <td>3.22</td>\n      <td>broken clouds</td>\n    </tr>\n    <tr>\n      <th>44</th>\n      <td>44</td>\n      <td>Buraydah</td>\n      <td>SA</td>\n      <td>26.3260</td>\n      <td>43.9750</td>\n      <td>87.89</td>\n      <td>14</td>\n      <td>3</td>\n      <td>8.66</td>\n      <td>clear sky</td>\n    </tr>\n    <tr>\n      <th>50</th>\n      <td>50</td>\n      <td>Puerto Escondido</td>\n      <td>MX</td>\n      <td>15.8500</td>\n      <td>-97.0667</td>\n      <td>86.09</td>\n      <td>70</td>\n      <td>63</td>\n      <td>7.29</td>\n      <td>broken clouds</td>\n    </tr>\n    <tr>\n      <th>51</th>\n      <td>51</td>\n      <td>Bengkulu</td>\n      <td>ID</td>\n      <td>-3.8004</td>\n      <td>102.2655</td>\n      <td>75.24</td>\n      <td>92</td>\n      <td>100</td>\n      <td>3.78</td>\n      <td>overcast clouds</td>\n    </tr>\n    <tr>\n      <th>54</th>\n      <td>54</td>\n      <td>High Level</td>\n      <td>CA</td>\n      <td>58.5169</td>\n      <td>-117.1360</td>\n      <td>76.57</td>\n      <td>26</td>\n      <td>82</td>\n      <td>6.13</td>\n      <td>broken clouds</td>\n    </tr>\n  </tbody>\n</table>\n</div>"
     },
     "metadata": {},
     "execution_count": 13
    }
   ],
   "source": [
    "# 3. Filter the city_data_df DataFrame using the input statements to create a new DataFrame using the loc method.\n",
    "city_data_temp_df = city_data_df.loc[(city_data_df[\"Max Temp\"] <= max_temp) & (city_data_df[\"Max Temp\"] >= min_temp)]\n",
    "city_data_temp_df.head(10)"
   ]
  },
  {
   "cell_type": "code",
   "execution_count": 14,
   "metadata": {},
   "outputs": [
    {
     "output_type": "execute_result",
     "data": {
      "text/plain": [
       "City_ID                674\n",
       "City                   674\n",
       "Country                668\n",
       "Lat                    674\n",
       "Lng                    674\n",
       "Max Temp               674\n",
       "Humidity               674\n",
       "Cloudiness             674\n",
       "Wind Speed             674\n",
       "Current Description    674\n",
       "dtype: int64"
      ]
     },
     "metadata": {},
     "execution_count": 14
    }
   ],
   "source": [
    "# 4a. Determine if there are any empty rows.\n",
    "\n",
    "# Check Original Dataset\n",
    "city_data_df.count()"
   ]
  },
  {
   "cell_type": "code",
   "execution_count": 15,
   "metadata": {},
   "outputs": [
    {
     "output_type": "execute_result",
     "data": {
      "text/plain": [
       "City_ID                0\n",
       "City                   0\n",
       "Country                6\n",
       "Lat                    0\n",
       "Lng                    0\n",
       "Max Temp               0\n",
       "Humidity               0\n",
       "Cloudiness             0\n",
       "Wind Speed             0\n",
       "Current Description    0\n",
       "dtype: int64"
      ]
     },
     "metadata": {},
     "execution_count": 15
    }
   ],
   "source": [
    "# Check Missing Data in Original Dataset\n",
    "city_data_df.isnull().sum(axis = 0)"
   ]
  },
  {
   "cell_type": "code",
   "execution_count": 16,
   "metadata": {},
   "outputs": [
    {
     "output_type": "execute_result",
     "data": {
      "text/plain": [
       "City_ID                190\n",
       "City                   190\n",
       "Country                190\n",
       "Lat                    190\n",
       "Lng                    190\n",
       "Max Temp               190\n",
       "Humidity               190\n",
       "Cloudiness             190\n",
       "Wind Speed             190\n",
       "Current Description    190\n",
       "dtype: int64"
      ]
     },
     "metadata": {},
     "execution_count": 16
    }
   ],
   "source": [
    "# Check New Dataset\n",
    "city_data_temp_df.count()"
   ]
  },
  {
   "cell_type": "code",
   "execution_count": 17,
   "metadata": {},
   "outputs": [
    {
     "output_type": "execute_result",
     "data": {
      "text/plain": [
       "City_ID                0\n",
       "City                   0\n",
       "Country                0\n",
       "Lat                    0\n",
       "Lng                    0\n",
       "Max Temp               0\n",
       "Humidity               0\n",
       "Cloudiness             0\n",
       "Wind Speed             0\n",
       "Current Description    0\n",
       "dtype: int64"
      ]
     },
     "metadata": {},
     "execution_count": 17
    }
   ],
   "source": [
    "# Check Missing Data in New Dataset\n",
    "city_data_temp_df.isnull().sum(axis = 0)"
   ]
  },
  {
   "cell_type": "code",
   "execution_count": 18,
   "metadata": {},
   "outputs": [
    {
     "output_type": "execute_result",
     "data": {
      "text/plain": [
       "     City_ID            City Country      Lat       Lng  Max Temp  Humidity  \\\n",
       "8          8         Cayenne      GF   4.9333  -52.3333     77.09        89   \n",
       "17        17    San Patricio      US  28.0170  -97.5169     85.17        63   \n",
       "20        20           Lucea      JM  18.4510  -78.1736     85.86        77   \n",
       "25        25           Kapaa      US  22.0752 -159.3190     81.19        71   \n",
       "28        28          Curaca      BR  -8.9903  -39.9094     79.65        61   \n",
       "..       ...             ...     ...      ...       ...       ...       ...   \n",
       "662      662         Cabinda      AO  -5.5500   12.2000     76.62        92   \n",
       "663      663      Vila Velha      BR -20.3297  -40.2925     75.94        88   \n",
       "665      665        Rio Tuba      PH   8.5061  117.4317     80.87        82   \n",
       "667      667  Santa Catalina      PH   9.3337  122.8637     80.74        82   \n",
       "673      673           Yilan      TW  24.7570  121.7530     82.36        99   \n",
       "\n",
       "     Cloudiness  Wind Speed Current Description  \n",
       "8             0       11.52           clear sky  \n",
       "17           90       13.47     overcast clouds  \n",
       "20          100       11.07     overcast clouds  \n",
       "25           44        1.99    scattered clouds  \n",
       "28           98        9.10     overcast clouds  \n",
       "..          ...         ...                 ...  \n",
       "662          75        4.47       broken clouds  \n",
       "663          19        8.99          few clouds  \n",
       "665          98        5.59     overcast clouds  \n",
       "667         100        1.14       moderate rain  \n",
       "673         100        0.31     overcast clouds  \n",
       "\n",
       "[190 rows x 10 columns]"
      ],
      "text/html": "<div>\n<style scoped>\n    .dataframe tbody tr th:only-of-type {\n        vertical-align: middle;\n    }\n\n    .dataframe tbody tr th {\n        vertical-align: top;\n    }\n\n    .dataframe thead th {\n        text-align: right;\n    }\n</style>\n<table border=\"1\" class=\"dataframe\">\n  <thead>\n    <tr style=\"text-align: right;\">\n      <th></th>\n      <th>City_ID</th>\n      <th>City</th>\n      <th>Country</th>\n      <th>Lat</th>\n      <th>Lng</th>\n      <th>Max Temp</th>\n      <th>Humidity</th>\n      <th>Cloudiness</th>\n      <th>Wind Speed</th>\n      <th>Current Description</th>\n    </tr>\n  </thead>\n  <tbody>\n    <tr>\n      <th>8</th>\n      <td>8</td>\n      <td>Cayenne</td>\n      <td>GF</td>\n      <td>4.9333</td>\n      <td>-52.3333</td>\n      <td>77.09</td>\n      <td>89</td>\n      <td>0</td>\n      <td>11.52</td>\n      <td>clear sky</td>\n    </tr>\n    <tr>\n      <th>17</th>\n      <td>17</td>\n      <td>San Patricio</td>\n      <td>US</td>\n      <td>28.0170</td>\n      <td>-97.5169</td>\n      <td>85.17</td>\n      <td>63</td>\n      <td>90</td>\n      <td>13.47</td>\n      <td>overcast clouds</td>\n    </tr>\n    <tr>\n      <th>20</th>\n      <td>20</td>\n      <td>Lucea</td>\n      <td>JM</td>\n      <td>18.4510</td>\n      <td>-78.1736</td>\n      <td>85.86</td>\n      <td>77</td>\n      <td>100</td>\n      <td>11.07</td>\n      <td>overcast clouds</td>\n    </tr>\n    <tr>\n      <th>25</th>\n      <td>25</td>\n      <td>Kapaa</td>\n      <td>US</td>\n      <td>22.0752</td>\n      <td>-159.3190</td>\n      <td>81.19</td>\n      <td>71</td>\n      <td>44</td>\n      <td>1.99</td>\n      <td>scattered clouds</td>\n    </tr>\n    <tr>\n      <th>28</th>\n      <td>28</td>\n      <td>Curaca</td>\n      <td>BR</td>\n      <td>-8.9903</td>\n      <td>-39.9094</td>\n      <td>79.65</td>\n      <td>61</td>\n      <td>98</td>\n      <td>9.10</td>\n      <td>overcast clouds</td>\n    </tr>\n    <tr>\n      <th>...</th>\n      <td>...</td>\n      <td>...</td>\n      <td>...</td>\n      <td>...</td>\n      <td>...</td>\n      <td>...</td>\n      <td>...</td>\n      <td>...</td>\n      <td>...</td>\n      <td>...</td>\n    </tr>\n    <tr>\n      <th>662</th>\n      <td>662</td>\n      <td>Cabinda</td>\n      <td>AO</td>\n      <td>-5.5500</td>\n      <td>12.2000</td>\n      <td>76.62</td>\n      <td>92</td>\n      <td>75</td>\n      <td>4.47</td>\n      <td>broken clouds</td>\n    </tr>\n    <tr>\n      <th>663</th>\n      <td>663</td>\n      <td>Vila Velha</td>\n      <td>BR</td>\n      <td>-20.3297</td>\n      <td>-40.2925</td>\n      <td>75.94</td>\n      <td>88</td>\n      <td>19</td>\n      <td>8.99</td>\n      <td>few clouds</td>\n    </tr>\n    <tr>\n      <th>665</th>\n      <td>665</td>\n      <td>Rio Tuba</td>\n      <td>PH</td>\n      <td>8.5061</td>\n      <td>117.4317</td>\n      <td>80.87</td>\n      <td>82</td>\n      <td>98</td>\n      <td>5.59</td>\n      <td>overcast clouds</td>\n    </tr>\n    <tr>\n      <th>667</th>\n      <td>667</td>\n      <td>Santa Catalina</td>\n      <td>PH</td>\n      <td>9.3337</td>\n      <td>122.8637</td>\n      <td>80.74</td>\n      <td>82</td>\n      <td>100</td>\n      <td>1.14</td>\n      <td>moderate rain</td>\n    </tr>\n    <tr>\n      <th>673</th>\n      <td>673</td>\n      <td>Yilan</td>\n      <td>TW</td>\n      <td>24.7570</td>\n      <td>121.7530</td>\n      <td>82.36</td>\n      <td>99</td>\n      <td>100</td>\n      <td>0.31</td>\n      <td>overcast clouds</td>\n    </tr>\n  </tbody>\n</table>\n<p>190 rows × 10 columns</p>\n</div>"
     },
     "metadata": {},
     "execution_count": 18
    }
   ],
   "source": [
    "# 4b. Drop any empty rows and create a new DataFrame that doesn’t have empty rows.\n",
    "clean_city_data_df = city_data_temp_df.dropna()\n",
    "clean_city_data_df"
   ]
  },
  {
   "cell_type": "code",
   "execution_count": 19,
   "metadata": {},
   "outputs": [
    {
     "output_type": "execute_result",
     "data": {
      "text/plain": [
       "                City Country  Max Temp Current Description      Lat       Lng  \\\n",
       "8            Cayenne      GF     77.09           clear sky   4.9333  -52.3333   \n",
       "17      San Patricio      US     85.17     overcast clouds  28.0170  -97.5169   \n",
       "20             Lucea      JM     85.86     overcast clouds  18.4510  -78.1736   \n",
       "25             Kapaa      US     81.19    scattered clouds  22.0752 -159.3190   \n",
       "28            Curaca      BR     79.65     overcast clouds  -8.9903  -39.9094   \n",
       "39         Siquirres      CR     85.41       broken clouds  10.0975  -83.5066   \n",
       "44          Buraydah      SA     87.89           clear sky  26.3260   43.9750   \n",
       "50  Puerto Escondido      MX     86.09       broken clouds  15.8500  -97.0667   \n",
       "51          Bengkulu      ID     75.24     overcast clouds  -3.8004  102.2655   \n",
       "54        High Level      CA     76.57       broken clouds  58.5169 -117.1360   \n",
       "\n",
       "   Hotel Name  \n",
       "8              \n",
       "17             \n",
       "20             \n",
       "25             \n",
       "28             \n",
       "39             \n",
       "44             \n",
       "50             \n",
       "51             \n",
       "54             "
      ],
      "text/html": "<div>\n<style scoped>\n    .dataframe tbody tr th:only-of-type {\n        vertical-align: middle;\n    }\n\n    .dataframe tbody tr th {\n        vertical-align: top;\n    }\n\n    .dataframe thead th {\n        text-align: right;\n    }\n</style>\n<table border=\"1\" class=\"dataframe\">\n  <thead>\n    <tr style=\"text-align: right;\">\n      <th></th>\n      <th>City</th>\n      <th>Country</th>\n      <th>Max Temp</th>\n      <th>Current Description</th>\n      <th>Lat</th>\n      <th>Lng</th>\n      <th>Hotel Name</th>\n    </tr>\n  </thead>\n  <tbody>\n    <tr>\n      <th>8</th>\n      <td>Cayenne</td>\n      <td>GF</td>\n      <td>77.09</td>\n      <td>clear sky</td>\n      <td>4.9333</td>\n      <td>-52.3333</td>\n      <td></td>\n    </tr>\n    <tr>\n      <th>17</th>\n      <td>San Patricio</td>\n      <td>US</td>\n      <td>85.17</td>\n      <td>overcast clouds</td>\n      <td>28.0170</td>\n      <td>-97.5169</td>\n      <td></td>\n    </tr>\n    <tr>\n      <th>20</th>\n      <td>Lucea</td>\n      <td>JM</td>\n      <td>85.86</td>\n      <td>overcast clouds</td>\n      <td>18.4510</td>\n      <td>-78.1736</td>\n      <td></td>\n    </tr>\n    <tr>\n      <th>25</th>\n      <td>Kapaa</td>\n      <td>US</td>\n      <td>81.19</td>\n      <td>scattered clouds</td>\n      <td>22.0752</td>\n      <td>-159.3190</td>\n      <td></td>\n    </tr>\n    <tr>\n      <th>28</th>\n      <td>Curaca</td>\n      <td>BR</td>\n      <td>79.65</td>\n      <td>overcast clouds</td>\n      <td>-8.9903</td>\n      <td>-39.9094</td>\n      <td></td>\n    </tr>\n    <tr>\n      <th>39</th>\n      <td>Siquirres</td>\n      <td>CR</td>\n      <td>85.41</td>\n      <td>broken clouds</td>\n      <td>10.0975</td>\n      <td>-83.5066</td>\n      <td></td>\n    </tr>\n    <tr>\n      <th>44</th>\n      <td>Buraydah</td>\n      <td>SA</td>\n      <td>87.89</td>\n      <td>clear sky</td>\n      <td>26.3260</td>\n      <td>43.9750</td>\n      <td></td>\n    </tr>\n    <tr>\n      <th>50</th>\n      <td>Puerto Escondido</td>\n      <td>MX</td>\n      <td>86.09</td>\n      <td>broken clouds</td>\n      <td>15.8500</td>\n      <td>-97.0667</td>\n      <td></td>\n    </tr>\n    <tr>\n      <th>51</th>\n      <td>Bengkulu</td>\n      <td>ID</td>\n      <td>75.24</td>\n      <td>overcast clouds</td>\n      <td>-3.8004</td>\n      <td>102.2655</td>\n      <td></td>\n    </tr>\n    <tr>\n      <th>54</th>\n      <td>High Level</td>\n      <td>CA</td>\n      <td>76.57</td>\n      <td>broken clouds</td>\n      <td>58.5169</td>\n      <td>-117.1360</td>\n      <td></td>\n    </tr>\n  </tbody>\n</table>\n</div>"
     },
     "metadata": {},
     "execution_count": 19
    }
   ],
   "source": [
    "# 5a. Create DataFrame called hotel_df to store hotel names along with city, country, max temp, and coordinates.\n",
    "hotel_df = clean_city_data_df[[\"City\", \"Country\", \"Max Temp\", \"Current Description\", \"Lat\", \"Lng\"]].copy()\n",
    "\n",
    "# 5b. Create a new column \"Hotel Name\"\n",
    "hotel_df[\"Hotel Name\"] = \"\"\n",
    "hotel_df.head(10)"
   ]
  },
  {
   "cell_type": "code",
   "execution_count": 20,
   "metadata": {},
   "outputs": [
    {
     "output_type": "execute_result",
     "data": {
      "text/plain": [
       "City                   190\n",
       "Country                190\n",
       "Max Temp               190\n",
       "Current Description    190\n",
       "Lat                    190\n",
       "Lng                    190\n",
       "Hotel Name             190\n",
       "dtype: int64"
      ]
     },
     "metadata": {},
     "execution_count": 20
    }
   ],
   "source": [
    "hotel_df.count()"
   ]
  },
  {
   "cell_type": "code",
   "execution_count": 21,
   "metadata": {},
   "outputs": [
    {
     "output_type": "stream",
     "name": "stdout",
     "text": [
      "Hotel not found... skipping.\n",
      "Hotel not found... skipping.\n",
      "Hotel not found... skipping.\n",
      "Hotel not found... skipping.\n",
      "Hotel not found... skipping.\n",
      "Hotel not found... skipping.\n",
      "Hotel not found... skipping.\n",
      "Hotel not found... skipping.\n",
      "Hotel not found... skipping.\n",
      "Hotel not found... skipping.\n",
      "Hotel not found... skipping.\n"
     ]
    }
   ],
   "source": [
    "# 6a. Set parameters to search for hotels with 5000 meters.\n",
    "params = {\n",
    "    \"radius\": 5000,\n",
    "    \"type\": \"lodging\",\n",
    "    \"key\": g_key\n",
    "}\n",
    "\n",
    "# 6b. Iterate through the hotel DataFrame.\n",
    "for index, row in hotel_df.iterrows():\n",
    "\n",
    "    # 6c. Get latitude and longitude from DataFrame\n",
    "    lat = row[\"Lat\"]\n",
    "    lng = row[\"Lng\"]\n",
    "    \n",
    "    params[\"location\"] = f\"{lat},{lng}\"    \n",
    "    \n",
    "    # 6d. Set up the base URL for the Google Directions API to get JSON data.\n",
    "    base_url = \"https://maps.googleapis.com/maps/api/place/nearbysearch/json\"\n",
    "    \n",
    "    # 6e. Make request and retrieve the JSON data from the search. \n",
    "    hotels = requests.get(base_url, params=params).json()\n",
    "    \n",
    "    # 6f. Get the first hotel from the results and store the name, if a hotel isn't found skip the city.\n",
    "    try:\n",
    "        hotel_df.loc[index, \"Hotel Name\"] = hotels[\"results\"][0][\"name\"]\n",
    "    except (IndexError):\n",
    "        print(\"Hotel not found... skipping.\")"
   ]
  },
  {
   "cell_type": "code",
   "execution_count": 22,
   "metadata": {},
   "outputs": [
    {
     "output_type": "execute_result",
     "data": {
      "text/plain": [
       "                City Country  Max Temp Current Description      Lat       Lng  \\\n",
       "8            Cayenne      GF     77.09           clear sky   4.9333  -52.3333   \n",
       "17      San Patricio      US     85.17     overcast clouds  28.0170  -97.5169   \n",
       "20             Lucea      JM     85.86     overcast clouds  18.4510  -78.1736   \n",
       "25             Kapaa      US     81.19    scattered clouds  22.0752 -159.3190   \n",
       "28            Curaca      BR     79.65     overcast clouds  -8.9903  -39.9094   \n",
       "39         Siquirres      CR     85.41       broken clouds  10.0975  -83.5066   \n",
       "44          Buraydah      SA     87.89           clear sky  26.3260   43.9750   \n",
       "50  Puerto Escondido      MX     86.09       broken clouds  15.8500  -97.0667   \n",
       "51          Bengkulu      ID     75.24     overcast clouds  -3.8004  102.2655   \n",
       "54        High Level      CA     76.57       broken clouds  58.5169 -117.1360   \n",
       "\n",
       "                              Hotel Name  \n",
       "8                        Hôtel Le Dronmi  \n",
       "17                    Motel 6 Sinton, TX  \n",
       "20  Grand Palladium Jamaica Resort & Spa  \n",
       "25   Sheraton Kauai Coconut Beach Resort  \n",
       "28               Hotel Recanto Campestre  \n",
       "39                         Hotel Pacuare  \n",
       "44                      فندق راحة السلام  \n",
       "50         Aldea del Bazar Hotel and Spa  \n",
       "51                  Grage Hotel Bengkulu  \n",
       "54        Days Inn by Wyndham High Level  "
      ],
      "text/html": "<div>\n<style scoped>\n    .dataframe tbody tr th:only-of-type {\n        vertical-align: middle;\n    }\n\n    .dataframe tbody tr th {\n        vertical-align: top;\n    }\n\n    .dataframe thead th {\n        text-align: right;\n    }\n</style>\n<table border=\"1\" class=\"dataframe\">\n  <thead>\n    <tr style=\"text-align: right;\">\n      <th></th>\n      <th>City</th>\n      <th>Country</th>\n      <th>Max Temp</th>\n      <th>Current Description</th>\n      <th>Lat</th>\n      <th>Lng</th>\n      <th>Hotel Name</th>\n    </tr>\n  </thead>\n  <tbody>\n    <tr>\n      <th>8</th>\n      <td>Cayenne</td>\n      <td>GF</td>\n      <td>77.09</td>\n      <td>clear sky</td>\n      <td>4.9333</td>\n      <td>-52.3333</td>\n      <td>Hôtel Le Dronmi</td>\n    </tr>\n    <tr>\n      <th>17</th>\n      <td>San Patricio</td>\n      <td>US</td>\n      <td>85.17</td>\n      <td>overcast clouds</td>\n      <td>28.0170</td>\n      <td>-97.5169</td>\n      <td>Motel 6 Sinton, TX</td>\n    </tr>\n    <tr>\n      <th>20</th>\n      <td>Lucea</td>\n      <td>JM</td>\n      <td>85.86</td>\n      <td>overcast clouds</td>\n      <td>18.4510</td>\n      <td>-78.1736</td>\n      <td>Grand Palladium Jamaica Resort &amp; Spa</td>\n    </tr>\n    <tr>\n      <th>25</th>\n      <td>Kapaa</td>\n      <td>US</td>\n      <td>81.19</td>\n      <td>scattered clouds</td>\n      <td>22.0752</td>\n      <td>-159.3190</td>\n      <td>Sheraton Kauai Coconut Beach Resort</td>\n    </tr>\n    <tr>\n      <th>28</th>\n      <td>Curaca</td>\n      <td>BR</td>\n      <td>79.65</td>\n      <td>overcast clouds</td>\n      <td>-8.9903</td>\n      <td>-39.9094</td>\n      <td>Hotel Recanto Campestre</td>\n    </tr>\n    <tr>\n      <th>39</th>\n      <td>Siquirres</td>\n      <td>CR</td>\n      <td>85.41</td>\n      <td>broken clouds</td>\n      <td>10.0975</td>\n      <td>-83.5066</td>\n      <td>Hotel Pacuare</td>\n    </tr>\n    <tr>\n      <th>44</th>\n      <td>Buraydah</td>\n      <td>SA</td>\n      <td>87.89</td>\n      <td>clear sky</td>\n      <td>26.3260</td>\n      <td>43.9750</td>\n      <td>فندق راحة السلام</td>\n    </tr>\n    <tr>\n      <th>50</th>\n      <td>Puerto Escondido</td>\n      <td>MX</td>\n      <td>86.09</td>\n      <td>broken clouds</td>\n      <td>15.8500</td>\n      <td>-97.0667</td>\n      <td>Aldea del Bazar Hotel and Spa</td>\n    </tr>\n    <tr>\n      <th>51</th>\n      <td>Bengkulu</td>\n      <td>ID</td>\n      <td>75.24</td>\n      <td>overcast clouds</td>\n      <td>-3.8004</td>\n      <td>102.2655</td>\n      <td>Grage Hotel Bengkulu</td>\n    </tr>\n    <tr>\n      <th>54</th>\n      <td>High Level</td>\n      <td>CA</td>\n      <td>76.57</td>\n      <td>broken clouds</td>\n      <td>58.5169</td>\n      <td>-117.1360</td>\n      <td>Days Inn by Wyndham High Level</td>\n    </tr>\n  </tbody>\n</table>\n</div>"
     },
     "metadata": {},
     "execution_count": 22
    }
   ],
   "source": [
    "hotel_df.head(10)"
   ]
  },
  {
   "cell_type": "code",
   "execution_count": 23,
   "metadata": {},
   "outputs": [
    {
     "output_type": "execute_result",
     "data": {
      "text/plain": [
       "                City Country  Max Temp Current Description      Lat       Lng  \\\n",
       "8            Cayenne      GF     77.09           clear sky   4.9333  -52.3333   \n",
       "17      San Patricio      US     85.17     overcast clouds  28.0170  -97.5169   \n",
       "20             Lucea      JM     85.86     overcast clouds  18.4510  -78.1736   \n",
       "25             Kapaa      US     81.19    scattered clouds  22.0752 -159.3190   \n",
       "28            Curaca      BR     79.65     overcast clouds  -8.9903  -39.9094   \n",
       "39         Siquirres      CR     85.41       broken clouds  10.0975  -83.5066   \n",
       "44          Buraydah      SA     87.89           clear sky  26.3260   43.9750   \n",
       "50  Puerto Escondido      MX     86.09       broken clouds  15.8500  -97.0667   \n",
       "51          Bengkulu      ID     75.24     overcast clouds  -3.8004  102.2655   \n",
       "54        High Level      CA     76.57       broken clouds  58.5169 -117.1360   \n",
       "\n",
       "                              Hotel Name  \n",
       "8                        Hôtel Le Dronmi  \n",
       "17                    Motel 6 Sinton, TX  \n",
       "20  Grand Palladium Jamaica Resort & Spa  \n",
       "25   Sheraton Kauai Coconut Beach Resort  \n",
       "28               Hotel Recanto Campestre  \n",
       "39                         Hotel Pacuare  \n",
       "44                      فندق راحة السلام  \n",
       "50         Aldea del Bazar Hotel and Spa  \n",
       "51                  Grage Hotel Bengkulu  \n",
       "54        Days Inn by Wyndham High Level  "
      ],
      "text/html": "<div>\n<style scoped>\n    .dataframe tbody tr th:only-of-type {\n        vertical-align: middle;\n    }\n\n    .dataframe tbody tr th {\n        vertical-align: top;\n    }\n\n    .dataframe thead th {\n        text-align: right;\n    }\n</style>\n<table border=\"1\" class=\"dataframe\">\n  <thead>\n    <tr style=\"text-align: right;\">\n      <th></th>\n      <th>City</th>\n      <th>Country</th>\n      <th>Max Temp</th>\n      <th>Current Description</th>\n      <th>Lat</th>\n      <th>Lng</th>\n      <th>Hotel Name</th>\n    </tr>\n  </thead>\n  <tbody>\n    <tr>\n      <th>8</th>\n      <td>Cayenne</td>\n      <td>GF</td>\n      <td>77.09</td>\n      <td>clear sky</td>\n      <td>4.9333</td>\n      <td>-52.3333</td>\n      <td>Hôtel Le Dronmi</td>\n    </tr>\n    <tr>\n      <th>17</th>\n      <td>San Patricio</td>\n      <td>US</td>\n      <td>85.17</td>\n      <td>overcast clouds</td>\n      <td>28.0170</td>\n      <td>-97.5169</td>\n      <td>Motel 6 Sinton, TX</td>\n    </tr>\n    <tr>\n      <th>20</th>\n      <td>Lucea</td>\n      <td>JM</td>\n      <td>85.86</td>\n      <td>overcast clouds</td>\n      <td>18.4510</td>\n      <td>-78.1736</td>\n      <td>Grand Palladium Jamaica Resort &amp; Spa</td>\n    </tr>\n    <tr>\n      <th>25</th>\n      <td>Kapaa</td>\n      <td>US</td>\n      <td>81.19</td>\n      <td>scattered clouds</td>\n      <td>22.0752</td>\n      <td>-159.3190</td>\n      <td>Sheraton Kauai Coconut Beach Resort</td>\n    </tr>\n    <tr>\n      <th>28</th>\n      <td>Curaca</td>\n      <td>BR</td>\n      <td>79.65</td>\n      <td>overcast clouds</td>\n      <td>-8.9903</td>\n      <td>-39.9094</td>\n      <td>Hotel Recanto Campestre</td>\n    </tr>\n    <tr>\n      <th>39</th>\n      <td>Siquirres</td>\n      <td>CR</td>\n      <td>85.41</td>\n      <td>broken clouds</td>\n      <td>10.0975</td>\n      <td>-83.5066</td>\n      <td>Hotel Pacuare</td>\n    </tr>\n    <tr>\n      <th>44</th>\n      <td>Buraydah</td>\n      <td>SA</td>\n      <td>87.89</td>\n      <td>clear sky</td>\n      <td>26.3260</td>\n      <td>43.9750</td>\n      <td>فندق راحة السلام</td>\n    </tr>\n    <tr>\n      <th>50</th>\n      <td>Puerto Escondido</td>\n      <td>MX</td>\n      <td>86.09</td>\n      <td>broken clouds</td>\n      <td>15.8500</td>\n      <td>-97.0667</td>\n      <td>Aldea del Bazar Hotel and Spa</td>\n    </tr>\n    <tr>\n      <th>51</th>\n      <td>Bengkulu</td>\n      <td>ID</td>\n      <td>75.24</td>\n      <td>overcast clouds</td>\n      <td>-3.8004</td>\n      <td>102.2655</td>\n      <td>Grage Hotel Bengkulu</td>\n    </tr>\n    <tr>\n      <th>54</th>\n      <td>High Level</td>\n      <td>CA</td>\n      <td>76.57</td>\n      <td>broken clouds</td>\n      <td>58.5169</td>\n      <td>-117.1360</td>\n      <td>Days Inn by Wyndham High Level</td>\n    </tr>\n  </tbody>\n</table>\n</div>"
     },
     "metadata": {},
     "execution_count": 23
    }
   ],
   "source": [
    "# 7. Drop the rows where there is no Hotel Name.\n",
    "clean_hotel_df = hotel_df.dropna()[hotel_df[\"Hotel Name\"] != '']\n",
    "clean_hotel_df.head(10)"
   ]
  },
  {
   "cell_type": "code",
   "execution_count": 24,
   "metadata": {},
   "outputs": [],
   "source": [
    "clean_hotel_df = hotel_df[[\"City\", \"Country\", \"Max Temp\", \"Current Description\", \"Lat\", \"Lng\", \"Hotel Name\"]].copy()"
   ]
  },
  {
   "cell_type": "code",
   "execution_count": 26,
   "metadata": {},
   "outputs": [],
   "source": [
    "# 8a. Create the output File (CSV)\n",
    "output_data_file = \"WeatherPy_vacation.csv\"\n",
    "\n",
    "# 8b. Export the City_Data into a csv\n",
    "clean_hotel_df.to_csv(output_data_file, index_label=\"City_ID\")"
   ]
  },
  {
   "cell_type": "code",
   "execution_count": 29,
   "metadata": {},
   "outputs": [],
   "source": [
    "# 9. Using the template add city name, the country code, the weather description and maximum temperature for the city.\n",
    "info_box_template = \"\"\"\n",
    "<dl>\n",
    "<dt><b>City Name</b></dt><dd>{City}</dd>\n",
    "<dt><b>Country Code</b></dt><dd>{Country}</dd>\n",
    "<dt><b>Weather Description</b></dt><dd>{Current Description}</dd>\n",
    "<dt><b>Maximum Temperture</b></dt><dd>{Max Temp}</dd>\n",
    "</dl>\n",
    "\"\"\"\n",
    "\n",
    "# 10a. Get the data from each row and add it to the formatting template and store the data in a list.\n",
    "hotel_info = [info_box_template.format(**row) for index, row in clean_hotel_df.iterrows()]\n",
    "\n",
    "# 10b. Get the latitude and longitude from each row and store in a new DataFrame.\n",
    "locations = clean_hotel_df[[\"Lat\", \"Lng\"]]\n",
    "max_temp = hotel_df[\"Max Temp\"]\n"
   ]
  },
  {
   "cell_type": "code",
   "execution_count": 30,
   "metadata": {},
   "outputs": [
    {
     "output_type": "display_data",
     "data": {
      "text/plain": "Figure(layout=FigureLayout(height='420px'))",
      "application/vnd.jupyter.widget-view+json": {
       "version_major": 2,
       "version_minor": 0,
       "model_id": "21e6f464ef0543a8a3ac9a56743212f7"
      }
     },
     "metadata": {}
    }
   ],
   "source": [
    "# 11a. Add a marker layer for each city to the map. \n",
    "fig = gmaps.figure(center=(30.0, 31.0), zoom_level=1.5)\n",
    "marker_layer = gmaps.marker_layer(locations, info_box_content=hotel_info)\n",
    "fig.add_layer(marker_layer)\n",
    "\n",
    "# 11b. Display the figure\n",
    "fig"
   ]
  },
  {
   "cell_type": "code",
   "execution_count": null,
   "metadata": {},
   "outputs": [],
   "source": []
  }
 ],
 "metadata": {
  "kernelspec": {
   "name": "python3810jvsc74a57bd065291de01f0a8b330e8df1e8c3a3cbb8332b9d91585d6313b1d91d1f7545a8ff",
   "display_name": "Python 3.8.10 64-bit ('base': conda)"
  },
  "language_info": {
   "codemirror_mode": {
    "name": "ipython",
    "version": 3
   },
   "file_extension": ".py",
   "mimetype": "text/x-python",
   "name": "python",
   "nbconvert_exporter": "python",
   "pygments_lexer": "ipython3",
   "version": "3.8.10"
  },
  "latex_envs": {
   "LaTeX_envs_menu_present": true,
   "autoclose": false,
   "autocomplete": true,
   "bibliofile": "biblio.bib",
   "cite_by": "apalike",
   "current_citInitial": 1,
   "eqLabelWithNumbers": true,
   "eqNumInitial": 1,
   "hotkeys": {
    "equation": "Ctrl-E",
    "itemize": "Ctrl-I"
   },
   "labels_anchors": false,
   "latex_user_defs": false,
   "report_style_numbering": false,
   "user_envs_cfg": false
  }
 },
 "nbformat": 4,
 "nbformat_minor": 4
}