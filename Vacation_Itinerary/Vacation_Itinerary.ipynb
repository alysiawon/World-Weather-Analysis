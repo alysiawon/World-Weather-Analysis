{
 "cells": [
  {
   "cell_type": "markdown",
   "metadata": {},
   "source": [
    "## Deliverable 3. Create a Travel Itinerary Map."
   ]
  },
  {
   "cell_type": "code",
   "execution_count": 3,
   "metadata": {},
   "outputs": [],
   "source": [
    "# Dependencies and Setup\n",
    "import pandas as pd\n",
    "import requests\n",
    "import gmaps\n",
    "\n",
    "# Import API key\n",
    "from config import g_key\n",
    "\n",
    "# Configure gmaps\n",
    "gmaps.configure(api_key=g_key)"
   ]
  },
  {
   "cell_type": "code",
   "execution_count": 4,
   "metadata": {},
   "outputs": [
    {
     "output_type": "execute_result",
     "data": {
      "text/plain": [
       "   City_ID          City Country  Max Temp Current Description      Lat  \\\n",
       "0        8       Cayenne      GF     77.09           clear sky   4.9333   \n",
       "1       17  San Patricio      US     85.17     overcast clouds  28.0170   \n",
       "2       20         Lucea      JM     85.86     overcast clouds  18.4510   \n",
       "3       25         Kapaa      US     81.19    scattered clouds  22.0752   \n",
       "4       28        Curaca      BR     79.65     overcast clouds  -8.9903   \n",
       "\n",
       "        Lng                            Hotel Name  \n",
       "0  -52.3333                       Hôtel Le Dronmi  \n",
       "1  -97.5169                    Motel 6 Sinton, TX  \n",
       "2  -78.1736  Grand Palladium Jamaica Resort & Spa  \n",
       "3 -159.3190   Sheraton Kauai Coconut Beach Resort  \n",
       "4  -39.9094               Hotel Recanto Campestre  "
      ],
      "text/html": "<div>\n<style scoped>\n    .dataframe tbody tr th:only-of-type {\n        vertical-align: middle;\n    }\n\n    .dataframe tbody tr th {\n        vertical-align: top;\n    }\n\n    .dataframe thead th {\n        text-align: right;\n    }\n</style>\n<table border=\"1\" class=\"dataframe\">\n  <thead>\n    <tr style=\"text-align: right;\">\n      <th></th>\n      <th>City_ID</th>\n      <th>City</th>\n      <th>Country</th>\n      <th>Max Temp</th>\n      <th>Current Description</th>\n      <th>Lat</th>\n      <th>Lng</th>\n      <th>Hotel Name</th>\n    </tr>\n  </thead>\n  <tbody>\n    <tr>\n      <th>0</th>\n      <td>8</td>\n      <td>Cayenne</td>\n      <td>GF</td>\n      <td>77.09</td>\n      <td>clear sky</td>\n      <td>4.9333</td>\n      <td>-52.3333</td>\n      <td>Hôtel Le Dronmi</td>\n    </tr>\n    <tr>\n      <th>1</th>\n      <td>17</td>\n      <td>San Patricio</td>\n      <td>US</td>\n      <td>85.17</td>\n      <td>overcast clouds</td>\n      <td>28.0170</td>\n      <td>-97.5169</td>\n      <td>Motel 6 Sinton, TX</td>\n    </tr>\n    <tr>\n      <th>2</th>\n      <td>20</td>\n      <td>Lucea</td>\n      <td>JM</td>\n      <td>85.86</td>\n      <td>overcast clouds</td>\n      <td>18.4510</td>\n      <td>-78.1736</td>\n      <td>Grand Palladium Jamaica Resort &amp; Spa</td>\n    </tr>\n    <tr>\n      <th>3</th>\n      <td>25</td>\n      <td>Kapaa</td>\n      <td>US</td>\n      <td>81.19</td>\n      <td>scattered clouds</td>\n      <td>22.0752</td>\n      <td>-159.3190</td>\n      <td>Sheraton Kauai Coconut Beach Resort</td>\n    </tr>\n    <tr>\n      <th>4</th>\n      <td>28</td>\n      <td>Curaca</td>\n      <td>BR</td>\n      <td>79.65</td>\n      <td>overcast clouds</td>\n      <td>-8.9903</td>\n      <td>-39.9094</td>\n      <td>Hotel Recanto Campestre</td>\n    </tr>\n  </tbody>\n</table>\n</div>"
     },
     "metadata": {},
     "execution_count": 4
    }
   ],
   "source": [
    "# 1. Read the WeatherPy_vacation.csv into a DataFrame.\n",
    "vacation_df = pd.read_csv(\"../Vacation_Search/WeatherPy_vacation.csv\")\n",
    "vacation_df.head()"
   ]
  },
  {
   "cell_type": "code",
   "execution_count": 9,
   "metadata": {},
   "outputs": [],
   "source": [
    "# 2. Using the template add the city name, the country code, the weather description and maximum temperature for the city.\n",
    "info_box_template = \"\"\"\n",
    "<dl>\n",
    "<dt><b>City Name</b></dt><dd>{City}</dd>\n",
    "<dt><b>Country Code</b></dt><dd>{Country}</dd>\n",
    "<dt><b>Weather Description</b></dt><dd>{Current Description}</dd>\n",
    "<dt><b>Maximum Temperture</b></dt><dd>{Max Temp}</dd>\n",
    "</dl>\n",
    "\"\"\"\n",
    "\n",
    "# 3a. Get the data from each row and add it to the formatting template and store the data in a list.\n",
    "hotel_info = [info_box_template.format(**row) for index, row in vacation_df.iterrows()]\n",
    "\n",
    "# 3b. Get the latitude and longitude from each row and store in a new DataFrame.\n",
    "locations = vacation_df[[\"Lat\", \"Lng\"]]\n",
    "max_temp = vacation_df[\"Max Temp\"]"
   ]
  },
  {
   "cell_type": "code",
   "execution_count": 10,
   "metadata": {},
   "outputs": [
    {
     "output_type": "display_data",
     "data": {
      "text/plain": "Figure(layout=FigureLayout(height='420px'))",
      "application/vnd.jupyter.widget-view+json": {
       "version_major": 2,
       "version_minor": 0,
       "model_id": "50dd84e9abcb4474a916a76854b82a7c"
      }
     },
     "metadata": {}
    }
   ],
   "source": [
    "# 4a. Add a marker layer for each city to the map.\n",
    "fig = gmaps.figure(center=(30.0, 31.0), zoom_level=1.5)\n",
    "marker_layer = gmaps.marker_layer(locations, info_box_content=hotel_info)\n",
    "fig.add_layer(marker_layer)\n",
    "\n",
    "# 4b. Display the figure\n",
    "fig\n"
   ]
  },
  {
   "cell_type": "code",
   "execution_count": 21,
   "metadata": {},
   "outputs": [],
   "source": [
    "# From the map above pick 4 cities and create a vacation itinerary route to travel between the four cities. \n",
    "# 5. Create DataFrames for each city by filtering the 'vacation_df' using the loc method. \n",
    "# Hint: The starting and ending city should be the same city.\n",
    "\n",
    "start_city = \"Vernon\"\n",
    "end_city = \"Vernon\"\n",
    "city1 = \"Portland\"\n",
    "city2 = \"Rancho Palos Verdes\"\n",
    "city3 = \"Winnemucca\"\n",
    "\n",
    "vacation_start = vacation_df.loc[vacation_df[\"City\"] == start_city]\n",
    "vacation_end = vacation_df.loc[vacation_df[\"City\"] == end_city]\n",
    "vacation_stop1 = vacation_df.loc[vacation_df[\"City\"] == city1]\n",
    "vacation_stop2 = vacation_df.loc[vacation_df[\"City\"] == city2] \n",
    "vacation_stop3 = vacation_df.loc[vacation_df[\"City\"] == city3]"
   ]
  },
  {
   "cell_type": "code",
   "execution_count": 22,
   "metadata": {},
   "outputs": [],
   "source": [
    "# 6. Get the latitude-longitude pairs as tuples from each city DataFrame using the to_numpy function and list indexing.\n",
    "start = vacation_start[\"Lat\"].to_numpy()[0], vacation_start[\"Lng\"].to_numpy()[0]\n",
    "end = vacation_end[\"Lat\"].to_numpy()[0], vacation_end[\"Lng\"].to_numpy()[0]\n",
    "stop1 = vacation_stop1[\"Lat\"].to_numpy()[0], vacation_stop1[\"Lng\"].to_numpy()[0]\n",
    "stop2 = vacation_stop2[\"Lat\"].to_numpy()[0], vacation_stop2[\"Lng\"].to_numpy()[0]\n",
    "stop3 = vacation_stop3[\"Lat\"].to_numpy()[0], vacation_stop3[\"Lng\"].to_numpy()[0]"
   ]
  },
  {
   "cell_type": "code",
   "execution_count": 23,
   "metadata": {
    "scrolled": true
   },
   "outputs": [
    {
     "output_type": "display_data",
     "data": {
      "text/plain": "Figure(layout=FigureLayout(height='420px'))",
      "application/vnd.jupyter.widget-view+json": {
       "version_major": 2,
       "version_minor": 0,
       "model_id": "e0edb3039fee452dae7ea7dac1f60745"
      }
     },
     "metadata": {}
    }
   ],
   "source": [
    "# 7. Create a direction layer map using the start and end latitude-longitude pairs,\n",
    "# and stop1, stop2, and stop3 as the waypoints. The travel_mode should be \"DRIVING\", \"BICYCLING\", or \"WALKING\".\n",
    "\n",
    "fig = gmaps.figure()\n",
    "vacation_route = gmaps.directions_layer(\n",
    "        start, end, waypoints=[stop1, stop2, stop3],\n",
    "        travel_mode='DRIVING' or 'BICYCLING' or 'WALKING')\n",
    "fig.add_layer(vacation_route)\n",
    "fig\n"
   ]
  },
  {
   "cell_type": "code",
   "execution_count": 24,
   "metadata": {},
   "outputs": [
    {
     "output_type": "execute_result",
     "data": {
      "text/plain": [
       "   City_ID                 City Country  Max Temp Current Description  \\\n",
       "0      215               Vernon      CA     85.30     overcast clouds   \n",
       "1      172             Portland      US     89.62       broken clouds   \n",
       "2      144  Rancho Palos Verdes      US     88.21           clear sky   \n",
       "3      438           Winnemucca      US     87.85           clear sky   \n",
       "\n",
       "       Lat       Lng                                   Hotel Name  \n",
       "0  50.2581 -119.2691  Prestige Vernon Lodge and Conference Centre  \n",
       "1  45.5234 -122.6762   Embassy Suites by Hilton Portland Downtown  \n",
       "2  33.7445 -118.3870                              Terranea Resort  \n",
       "3  40.9730 -117.7357                           Winners Inn Casino  "
      ],
      "text/html": "<div>\n<style scoped>\n    .dataframe tbody tr th:only-of-type {\n        vertical-align: middle;\n    }\n\n    .dataframe tbody tr th {\n        vertical-align: top;\n    }\n\n    .dataframe thead th {\n        text-align: right;\n    }\n</style>\n<table border=\"1\" class=\"dataframe\">\n  <thead>\n    <tr style=\"text-align: right;\">\n      <th></th>\n      <th>City_ID</th>\n      <th>City</th>\n      <th>Country</th>\n      <th>Max Temp</th>\n      <th>Current Description</th>\n      <th>Lat</th>\n      <th>Lng</th>\n      <th>Hotel Name</th>\n    </tr>\n  </thead>\n  <tbody>\n    <tr>\n      <th>0</th>\n      <td>215</td>\n      <td>Vernon</td>\n      <td>CA</td>\n      <td>85.30</td>\n      <td>overcast clouds</td>\n      <td>50.2581</td>\n      <td>-119.2691</td>\n      <td>Prestige Vernon Lodge and Conference Centre</td>\n    </tr>\n    <tr>\n      <th>1</th>\n      <td>172</td>\n      <td>Portland</td>\n      <td>US</td>\n      <td>89.62</td>\n      <td>broken clouds</td>\n      <td>45.5234</td>\n      <td>-122.6762</td>\n      <td>Embassy Suites by Hilton Portland Downtown</td>\n    </tr>\n    <tr>\n      <th>2</th>\n      <td>144</td>\n      <td>Rancho Palos Verdes</td>\n      <td>US</td>\n      <td>88.21</td>\n      <td>clear sky</td>\n      <td>33.7445</td>\n      <td>-118.3870</td>\n      <td>Terranea Resort</td>\n    </tr>\n    <tr>\n      <th>3</th>\n      <td>438</td>\n      <td>Winnemucca</td>\n      <td>US</td>\n      <td>87.85</td>\n      <td>clear sky</td>\n      <td>40.9730</td>\n      <td>-117.7357</td>\n      <td>Winners Inn Casino</td>\n    </tr>\n  </tbody>\n</table>\n</div>"
     },
     "metadata": {},
     "execution_count": 24
    }
   ],
   "source": [
    "# 8. To create a marker layer map between the four cities.\n",
    "#  Combine the four city DataFrames into one DataFrame using the concat() function.\n",
    "itinerary_df = pd.concat([vacation_start, vacation_stop1, vacation_stop2, vacation_stop3],ignore_index=True)\n",
    "itinerary_df"
   ]
  },
  {
   "cell_type": "code",
   "execution_count": 25,
   "metadata": {},
   "outputs": [],
   "source": [
    "# 9 Using the template add city name, the country code, the weather description and maximum temperature for the city. \n",
    "info_box_template = \"\"\"\n",
    "<dl>\n",
    "<dt><b>City Name</b></dt><dd>{City}</dd>\n",
    "<dt><b>Country Code</b></dt><dd>{Country}</dd>\n",
    "<dt><b>Weather Description</b></dt><dd>{Current Description}</dd>\n",
    "<dt><b>Maximum Temperture</b></dt><dd>{Max Temp}</dd>\n",
    "</dl>\n",
    "\"\"\"\n",
    "\n",
    "# 10a Get the data from each row and add it to the formatting template and store the data in a list.\n",
    "hotel_info = [info_box_template.format(**row) for index, row in itinerary_df.iterrows()]\n",
    "\n",
    "# 10b. Get the latitude and longitude from each row and store in a new DataFrame.\n",
    "locations = itinerary_df[[\"Lat\", \"Lng\"]]\n",
    "max_temp = vacation_df[\"Max Temp\"]"
   ]
  },
  {
   "cell_type": "code",
   "execution_count": 26,
   "metadata": {},
   "outputs": [
    {
     "output_type": "display_data",
     "data": {
      "text/plain": "Figure(layout=FigureLayout(height='420px'))",
      "application/vnd.jupyter.widget-view+json": {
       "version_major": 2,
       "version_minor": 0,
       "model_id": "c75a832d64224d53b4cb25b66e29314a"
      }
     },
     "metadata": {}
    }
   ],
   "source": [
    "# 11a. Add a marker layer for each city to the map.\n",
    "vacation_fig = gmaps.figure()\n",
    "marker_layer = gmaps.marker_layer(locations, info_box_content=hotel_info)\n",
    "vacation_fig.add_layer(marker_layer)\n",
    "\n",
    "# 11b. Display the figure\n",
    "vacation_fig"
   ]
  }
 ],
 "metadata": {
  "kernelspec": {
   "name": "python3810jvsc74a57bd065291de01f0a8b330e8df1e8c3a3cbb8332b9d91585d6313b1d91d1f7545a8ff",
   "display_name": "Python 3.8.10 64-bit ('base': conda)"
  },
  "language_info": {
   "codemirror_mode": {
    "name": "ipython",
    "version": 3
   },
   "file_extension": ".py",
   "mimetype": "text/x-python",
   "name": "python",
   "nbconvert_exporter": "python",
   "pygments_lexer": "ipython3",
   "version": "3.8.10"
  },
  "latex_envs": {
   "LaTeX_envs_menu_present": true,
   "autoclose": false,
   "autocomplete": true,
   "bibliofile": "biblio.bib",
   "cite_by": "apalike",
   "current_citInitial": 1,
   "eqLabelWithNumbers": true,
   "eqNumInitial": 1,
   "hotkeys": {
    "equation": "Ctrl-E",
    "itemize": "Ctrl-I"
   },
   "labels_anchors": false,
   "latex_user_defs": false,
   "report_style_numbering": false,
   "user_envs_cfg": false
  }
 },
 "nbformat": 4,
 "nbformat_minor": 2
}